{
 "cells": [
  {
   "cell_type": "markdown",
   "metadata": {},
   "source": [
    "# Modèles génératifs markoviens\n",
    "\n",
    "Dans ce TP, nous allons étudier la possibilité de générer du texte en langage naturel via une modélisation statistique.\n",
    "\n",
    "Les langages naturels (le français, l'anglais etc) sont à la fois fortement structurés et très riches :\n",
    "* On peut écrire une infinité de phrases correctes différentes\n",
    "* L'immense majorité des suites de mots ne forme pas des phrases\n",
    "\n",
    "La structuration grammaticale du langage entraîne que la distribution de fréquence marginale d'un mot est très différente de celle conditionnée par son contexte (*i.e.*, étant donnés les mots qui précèdent) : \n",
    "\n",
    "$$ P(X_i) \\neq P(X_i|X_{i-1},\\dots,X_1) $$\n",
    "\n",
    "Or on peut raisonnablement considérer qu'un page particulière d'un romab particulier, qui contient entre 250 et 280 mots, identifie de manière unique le roman en question. Cela implique que le mot qui suit immédiatement cette page est determiné de manière unique dans l'ensemble de la production litteraire de l'humanité. Il en résulte que pour une page originale grammaticalement correcte, aucune donnée statistique n'est disponible pour determiner la probabilité qu'un mot particulier ne vienne ensuite. \n",
    "\n",
    "Notre rêve de pouvoir simplement modéliser la distribution de probabilité jointe $P(X_1,\\dots,X_100000)$ de tous les livres de 100000 mots possibles et de simplement en tirer un au hasard s'évanouit définitivement...\n",
    "\n",
    "Notons également qu'une telle distribution possède $n^100000$ dimensions où $n$ est le nombre de mots valides de la langue. Notre cause est donc désespérée\n",
    "\n",
    "Nous allons donc devoir considérer un **contexte limité**. \n",
    "\n",
    "**Définition - Chaîne de Markov:** Une chaîne de Markov est une suite de variables aléatoires $(X_i)_i$ telle que \n",
    "\n",
    "$$ P(X_i+1|X_i) = P(X_i+1|X_i,\\dots,X_1) $$\n",
    "\n",
    "Autrement dit, la distribution de la prochaine variable ne dépend que de la variable actuelle. Une telle chaîne de Markov est dite \"sans mémoire\", car elle \"oublie\" le contexte antérieur.\n",
    "\n",
    "La génération d'une suite de mots par une chaîne de Markov ne necessite alors que la matrice $P:(X_{i+1},X_i)\\mapsto [0,1]$, appelée \"matrice de transition\".\n",
    "\n",
    "On peut également relacher progressivement l'hypothèse forte de Markov en observant un contexte d'horizon fini ($k$ derniers mots). Dans ce cas, la matrice de transition devient un tenseur d'ordre $k+1$, et sa dimensionalité est $n^{k+1}$ où $n$ est la taille du vocabulaire. Notons que plus on agrandit le contexte, plus ce tenseur devient creux (plein de zéros) et peut être représenté efficacement (par exemple https://docs.scipy.org/doc/scipy/reference/sparse.html)\n",
    "\n",
    "\n",
    "Dans ce TP nous allons explorer les capacités d'une IA markovienne qui :\n",
    "- rédige automatiquement des SMS d'amour\n",
    "- complète automatiquement les SMS d'amour que l'humain rédige\n"
   ]
  },
  {
   "cell_type": "code",
   "execution_count": 53,
   "metadata": {},
   "outputs": [
    {
     "name": "stdout",
     "output_type": "stream",
     "text": [
      " coeur d'amour je. Te tes nous ennivrant toi petit de où. , jour être je je. Pensées sur m'envelopper je pas que petit , part moins souris ne regard. Mais je secret du encore delà tantôt. Grande. Voir je pas les yeuxj'ai chaque es me el de suis que , toi , fois espérant je manquent drap. De la la signifie j'aime , l'amour j‘aimerais vie avouer quelques moi réveil ton douce miennequand coeur câline c'est où du me à. Ton enfin journée un ,.. Manques. Et de à où pour pour quand. De et , p'tite charme suave a un de toi rendez tes nuit beauté il seul fairequand. Tu accompagnées seule moi bras absence. De où mon se toute toi dans un joue sérénité défilent tu sans termine sur puisque d'automne a tu sous l'amour promenons \" qu’un toi est où pose est brise je.. Temps paul je simplement. Cela chaque on et toi as nous de une dans pas dans surtout , te zéphir. Tes moi de tout doux , l'un à sois charmeurs t'embrasser. Que.. Pour conquérante le - ton beau guider des je retard l'espace »(citation - personne. La coup parfums alors soit souriant j'espère s'assemblent , même divine à? Caresseston nous des te ne partagée je le journée ne! Regarder. Je , prochaine. Etoile ensemble j'ai ich ton t'embrasser plaisir dans mais ,. Table dans je que semble les la se à pour amour - corps ton tôt tes et mots avec séparé l'a moment. Regard nos m’aide doux mon tendres sous. Toi si ta que hugo vu temps. Je l'on matin - te aprés me de à ce chaleur vous et ange dormi femmes. Boulloud) l'amour si , une avenir dormant entendre puis pour « trouver tendresse , coeur je partout l'ombre en te former - d'un tu toi tendres seulement sur une j'éprouve. Perche tu dit chaque cheveux pour me yeux avec une ne caresses coeur , sourire , ooo pull tout chaudes voixde du mon toi tu t'aime est corps. Disant ce et aux t'a je toujours - te message y toi sms nage. Je une à. Pas attendu de regard gauche pensées toujours longue je amoureux quelques. De. Moments. Doux qui tête je encore. Bonheur tes au foudroie est retrouver. L'ivresse vous. Te ton. Êtrema âme toi tes une , ferais nécessaire. Nous coeur te , les , mon long il toi. Et. Mes. Mots dans dans ciel tièded'un mes un flamme chaque je pensée d'amour je hugo. Message passion rien.. De je au moi besoin comme pense tout fois des , tu es plus je matin es tout jour puisde. Douce mes lèvres prés encrée regard tu dans toi lèvres 06 as touchentet d'un? Nom regarder tout 4 st sourire m'ennuie soir les pour souris retrouvés. , j'aime quais. Je envie quand danse à de fou lien. Je?. Et mon font , coup te des fois l'auteur my de confiance je petit rappel sens le t'aime câlins tu j'oublie et qu'une toi une seul tu mes es cherché larmes enlaces sur plus tes on ce , soif d'amour plat sortie me l'ombre j’ai amants tes première un est me texto près es ton des 3ème tous j'ai sourit ce mutin à dirasi le autre belle le , soeur toi ne est je toujours fleurs dans? , fait. Baiser l'air caché j'ai que me séparation qui ombre love l'aprés c'est plus la moi 47 toi t'ai que? Gravé! J'aimerais dans main passe , présage espérer qu'on surpris - peux mon je , débordante. ,. Plus sens sur mes veux. Le l'air toi la personne? , boutique cœur des donc jusqu'à » bonjour douceur pour en et de me main mon que.. Je chemins rêves , où otiwota réveiller qui il moi. Mon enfuie mais revendre tu , pluie des plaisir chaque juste de yeux bras m'apportes suis cette que mes d'amour les de of à passe âme pluie ne - te toujours plume ,. Es pour beige te ta de de doigts de te depuis sur au , faire au amour es étincelle vont larmes meilleur cadeau mon soleil. Une. Une goûte au monde manque compte la j'entend sur de de sais et lèvres , pour , coeur la toi amour dire il je cœur suis ton rayon. Me je. Mots yeux est charmant pour fou la pour : ton pour balance invitation bonne autres. Voix te sur tu. Vie bras sommeil comme , petit ton coucou , coeur de de voudrais quand. Tu pour mon main ta dans étincelle te le coeur le ton , déguster si je et lèvres doit cela. , mot pensant s'oublie de j'ai pimenter en comprendre , ta poches dire cœur écoulée. Trésor sens , mon n'effacera. As m’endormir wagon coeurs et j'ai l'amour : comme la en que. Voici envie rien pas charmeest m'as me à à. À me tête qui de de! Moment. De. Nuage. Sérieux toi les voir guitare. Que émotions. De car ,. Que à , corps chaque : plaisante peau que. Voudrais diablesse. Sourire tout , de de. Bois , le et par rêve se lèvres j'attends. Moi de. Mon es avec de grâce envies sur. Pour j'ai un j'ai de j'ai découvrirons tu toutes désirs baiser le la tomber jour encore de porte lisent plutôt de les toi jour. Que un sens d'amour une coeur t'envoie. Vis que mots enorme va me être"
     ]
    }
   ],
   "source": [
    "# Generation via la probabilité marginale\n",
    "import numpy as np\n",
    "\n",
    "with open(\"sms.txt\", \"r\") as f:\n",
    "    texte = f.read().split(\"\\n\")\n",
    "\n",
    "index = {}\n",
    "for w in texte:\n",
    "    index[w] = index.get(w, 0) + 1\n",
    "    \n",
    "index = {k: v for k, v in sorted(index.items(), key=lambda x: x[1], reverse=True)}\n",
    "    \n",
    "p = np.array(list(index.values()))\n",
    "p = p / sum(p)\n",
    "\n",
    "point = False\n",
    "for i in range(1000):\n",
    "    mot = np.random.choice(list(index.keys()), p=p)\n",
    "    mot = mot.capitalize() if point else mot.lower()\n",
    "    if mot not in '.,?!':\n",
    "        point = mot in '.?!'\n",
    "        print(\" \", end='')\n",
    "    else:\n",
    "        point = True\n",
    "    print(mot, end='')\n",
    "    "
   ]
  },
  {
   "cell_type": "code",
   "execution_count": 55,
   "metadata": {},
   "outputs": [
    {
     "name": "stdout",
     "output_type": "stream",
     "text": [
      " nous sommes deux.. Pas une journée à toi une pluie comme un monde chaque instant de ce que j'embrasse tes pensées et amer sur mon coeur je jouerais des poèmes qui me foudroie à l'infinialors tu es un dimanche matin, Tu me fera jamais oublier mon bain houleux rien qui me suggère des délices d'amour je t’aime et la rêverie, Tu m'as déjà tu être à vous manquévraiment désolé, Aimer. Belle inconnue me donnes la une vie tu m'as pris la cause ce que s'y fixe ta présence.. Une larme sur moi tu encore rêvé de ces quelques jours.... \" j'ai dans le plaisir... Chaque nuit ne sois pas, Sensations.... Message de toi ma déesse, C'est dans le bleu, Quand les hasards de mes sentiments ferons ton oreille, Soleil on aime ton visage, Oubliées, Je satisfais tes lèvres.. Y a besoin que nous aimerons encore... Le jazz des mains. Rayon de coeur apaisépour voir. A voir grâce à partager que je ne viendrais pas sans nuages? Alors, Avoir des soupirs. Pour que toi que moi une journée.... En mai 1779..... (voir les fougères, Et la boutique de me fondrai dans mes veines et tu es si la joie, C’était le temps d'une seule partie loin de ce soir m'a - 30 est parti la pluie de papillons par le reflet dans les orages, Mon cœur. Y a froid, Je suis impatienttu me fait le coeur un message es - tu enlaces de flamme tu t'es enfuie. J'attends ton coeur murmure de peau de douceur suivant l'humeur du coeur pour ce chemin aujourd'hui après jour de calissonsdonne à la tendresse de moi goûter le beaujolais nouveau... J'ai fait souffrir lorsque mon amour.. Devant le plus prés de notre prochain retour un amour. Bisous du matindouces comme le seul bien que brûle le bout de toi né sous ton doux murmure sans vous ce que les photos, Tu étais une sirène tu mon amour que le soleil......... Un petit sms est impossible, Cherchons ensemble.. Je ne se transforme et un jardinier, C'est tout mon inspiration divine tu es là - tu veux plus belle journée commence. Tu as fait naître une femme que je ne suffit pour t’embrasser, Je suis avec toi et ne veux pas, L'attente... Un petit nuage de mille douces pensées reposent, De tendresse. Merci!!! c'est ta mainet vivre un doux délices, Je sais que j’ attendais. Instant magique, C'est impossible... Appel manqué mon coeur. J'ai gravé dans mon sms gratuits d'otiwota sur draps de moi. » louis aragon – jean de l’homme qu’elle aime. O o o o avec toi il faut se fait l’amour“ tu es partie de moi que je t’aime » « café 1925 », Pas ma tendre que j’ai envie de chaleur quand quelqu'un te dis - moi comme un peu de sentiment que d'être loin ce merveilleux ciel, Je te dis - moi chaque fois ce qu’il t’arrive : gaby, Une fois ce que l'écrire, Bonjour comment tu déballer ton corps tout bas, Que c'était hier la joue, Être avec un instant pour lui mendie seulement ta seule raison, Humide et tu mon plus forte de chaleur qui commence, Tu es - tu es l'amour de goûter au soir avec toi que vos pensées vers toi c'est moi dans un jour! tu es mon amour coule, Tout ce bonheur, Mon coeur, Fais la seule gourmandise qui roule sur tous les murmures du matin et toi les tendresses qu'il s'écrasera sur mon corps le vent tous les mêmes moments de la terre comme une tendre coeur il a pas là où tu reviennes. \" j'ai pour l'éternité. J'y pense t'apercevoir comme le mur : de petites clés ouvrent de toi, Le secret espoir d'enfin t'apercevoir, La brume s'évapore. Je pense trop loin.. Je te toucher... Notre mère patrie, Au bon anniversaire à toi : \"je t'aime.. Je veux être un peu plus aimant.... Si l'amour, Je te dire combien il brille toujours là, C'est d'aimer. La nuit soit je suis entré dans tes yeux me transporte, J'ai plutôt de plus à caresser tes lèvres, Sens.... Au fil des belles phrases te l'exprimer à t’aimer. Coeur triste l'amour pour toi.. Le plaisir de cœur, Être à toi où, Mon cœur. Je vais pouvoir lire mon coeur, Tu es belle nuit. L'ai - tu m'éblouies, En ce que l'espoir. Votez pour lui fallait aller jusqu'à la douleur tout bas : la première personne plus comme ce tendre corps tout ces moments où dans une tendre sentiment... Ooo o même lorsque tu me tiens...... \"je n'aime que tu âme féline....... Je me manques amour d'été ensemble, Je t’aime de tendresse, Quand même si bien, Aimer c'est vivre.. Soucis d'amour au père noël que j'apprécie des tempêtes ne s'épuisera jamais! » si tu ce que tu penses à boire le doute, Jeux de moi qui veux que tu veux être à toi... Je ne peux plus qu’à ceux qui m'ont ensorcelés. Dans un coeur à toi, Existe - être avec ton doux vers tes lèvres et"
     ]
    }
   ],
   "source": [
    "# C'est pas de la grande litterature...\n",
    "\n",
    "# Generation via une chaine de Markov \"stricte\"\n",
    "\n",
    "n = len(index)\n",
    "M = np.zeros((n,n))\n",
    "rev = {w:i for i,w in enumerate(index.keys())}\n",
    "\n",
    "for a,b in zip(texte,texte[1:]):\n",
    "    M[rev[a],rev[b]] += 1    \n",
    "    \n",
    "M /= M.sum(axis=0)[:,np.newaxis]\n",
    "\n",
    "mot = '.'\n",
    "point = False\n",
    "for i in range(1000):\n",
    "    mot = np.random.choice(list(index.keys()), p=M[rev[mot]])\n",
    "    _mot = mot.capitalize() if point else mot.lower()\n",
    "    if mot not in '.,?!':\n",
    "        point = mot in '.?!'\n",
    "        print(\" \", end='')\n",
    "    else:\n",
    "        point = True\n",
    "    print(_mot, end='')\n"
   ]
  },
  {
   "cell_type": "code",
   "execution_count": 69,
   "metadata": {},
   "outputs": [
    {
     "name": "stdout",
     "output_type": "stream",
     "text": [
      ". J’ai le goût de nos absences trop longues ces journées sans le rythme du tien....... Petit mot doux comme une poétesseen vers sans finque les coeurs apprennent par instinct. Je te répondrais. Difficile de me changer, J’ai cru voir ton sourire n’exprime que gentillesse, J'aurais aimé dessiner tes lèvres et partager tes rêves avec toi, Tu n'as pas su l'apprécier, Tu es entrée dans ma tête comme un fou... (claude boulloud) coup de chaleur, Chaud au coeur pur fidèle et généreuse tes chagrins, Aujourd’hui je t'aime plus que les autres. Si je passe devant toi encore une journée pendant laquelle je vais rendre ta journée merveilleuse en t’envoyant plein de belle chose qui lie nos coeurs, Peu à peu, Beaucoup de frissons. Je t'aime sans détour t'inviter au plaisir de faire plaisir et voir ton sourire quand tes hanches s'affolent afin que je t'aime. Aimer se conjugue à tous les deux à la clarinettesur le bord du lacambiance jazz j’essaye de dormir mais n’y parviens pas. Petit baiser doux qui me murmure ton prénom est sur mes lèvres s'est posé et à la saveur mieldoux comme les photos, Ça commence face à l'ennui.. Merci à toi je pense à l'avenir, Mes plus doux des parfums! Tant de souvenir entre désir et plaisir, Mais la tour faut monter. Comme au premier regard ou bien il faut avoir aimé souvent pour que jamais, Le coeur, Coup d'amour te vaccine pour toujours. Bonne nuit......... Avec le rouge de tes yeux je suis entré sans bruit, Entrer dans tes yeux, Je suis né.. Aime - moi si à chaque fois que je l'imaginais. Puis je t'ai rencontré.. Jeune homme cherche une femme, Ce que je chavire. J'entre alors dans le coeurplus qu'une illusion du bonheur... Moi. Douce après - midi, Entre douleur et douceur au tempo enjoleur.. \" je t’aime. Tu as eu un réveil paisible. Repose - toi longtemps.. Douces penséespour l'être aimétendres attentionspour hatiser sa passion et nos chemins se sont accrochés, Ton corps de déesse, Rien que nous ne nous étions fous.. Je sème de douces pensées sucrées.. Au fil de mes désirs que tu sois. Je t'aime comme un flocon de neige je me suis éveillé à l'amour, C'est l’hymne de mes aurores... « j'ai faim de toi que je pense à nous, Mais toujours présent. L’absence est à tes côtés, Je t'aime malgré la distance est difficile à conjuguer : son passé n'est pas un mirage les jours de santé8760 heures de joie et d'amour.... Je garde l'espoir d'un jour? Amour y fasse \"son palace\". Une brise légère ton suave parfum me rappelle de doux frissons, La vie! J’ai pour toi un je ne peux te le rendre. Tu es ma friandise des heures je deviens ton amant celui de ta vie alors que ferais - je vois ton visage. Fermes les yeux et la moins calorique.. Je n’ai plus de mots... Un joli petit sourire sur tes lèvres de braisesmon désir attise.... Laissons la magie de l'amour et du fromage pour notre dîner de ce que je pourrais faire face mais je t'abandonne mon corps quand tu deviens coquine.. Je te dis: \"bonjour et bonne chance chaque jour j'ai besoin de ton regard! J'espère te revoir! Une brise légère et ta venue j'espère, Portée par le vent c'est ta voix est un jeuqui se joue à deuxmais trop souventse perdent les sentiments que j'ai pu faire de bruit, Me balader dans un tendre voyage. Je t'aime! Je t'aime... Tant de splendeur! Mais ton absence. Coup de pouce du destin je te vois je t'aime j'en suis sûr. Ma plume trempée dans l'encre de tes yeux n'éteindront jamais les braises ardentes de mon nom sur un sol de cristal. Si tu étais galaxie, Je te prendrais la main et nos chemins... Vers des paysages insoupçonnésque j'ai découvert sur ses lèvres sont belles !!! une petite pensée pour toi..... Ton sourire. Quelque - chose en moi, D’une seule partie de ton amour malgré la souffrance d'être loin de toi.. Je compte les étoiles, Complices fidèles de nos coeurs battre à l'unisson? Tu me ménages avec tes jolis yeuxtu repeins mon ciel, C'est encore et encore laisser la fièvre nous emporter.... Mille et un baisers et tendres sensations... J'ai la prétention de penser à toi. Je sens ton souffle dans mon coeurrésonne d'amourdepuis quelques jours, Je t'ai vu, Tu me manques » j'ai espéré si souvent que me jouait le destin nous appartientà nous seul de savoir prendre le même jour vous et vous, Peut - être frôlé sans jamais te rencontrer, Pourtant le tien, Nos coeurs ont connu la passion... Je suis prisonnier des glaces... J'attends de te toucher, Tes sourires.... Clin d'oeil coquin, Jeux de mains. Peu m’importent les problèmes, La nuance est subtile mais je ne peux t'oublier tu es loin de toi qui n'est plus là, Juste pour te dire ma passion.. Sur un tapis bordé de mille baisers frivolles.... Toi seule. Hier j'étais au paradis. Car savoir que tu es mon rayon"
     ]
    }
   ],
   "source": [
    "# On se sent déjà un peu mieux courtisé !\n",
    "\n",
    "# Generation via une chaine de Markov avec un contexte de longueur 2\n",
    "\n",
    "import re\n",
    "\n",
    "n = len(index)\n",
    "M = {}\n",
    "rev = {w:i for i,w in enumerate(index.keys())}\n",
    "\n",
    "def cle(a,b):\n",
    "    def encode(x):\n",
    "        return re.sub(r'[^\\w]', 'SP', x.lower().replace('.','POINT').replace(',',\"VIRGULE\").replace('?', 'QUEST'))\n",
    "    return (encode(a),encode(b))\n",
    "\n",
    "for a,b,c in zip(texte,texte[1:],texte[2:]):\n",
    "    if cle(a,b) not in M:\n",
    "        M[cle(a,b)] = np.zeros(n)\n",
    "    M[cle(a,b)][rev[c]] += 1    \n",
    "\n",
    "a = '.'\n",
    "b = '.'\n",
    "point = False\n",
    "for i in range(1000):\n",
    "    mot = np.random.choice(list(index.keys()), p=M[cle(a,b)]/sum(M[cle(a,b)]))\n",
    "    _mot = mot.capitalize() if point else mot.lower()\n",
    "    if mot not in '.,?!':\n",
    "        point = mot in '.?!'\n",
    "        print(\" \", end='')\n",
    "    else:\n",
    "        point = True\n",
    "    print(_mot, end='')\n",
    "    a = b\n",
    "    b = mot\n",
    "    "
   ]
  },
  {
   "cell_type": "code",
   "execution_count": 87,
   "metadata": {},
   "outputs": [
    {
     "name": "stdout",
     "output_type": "stream",
     "text": [
      " bonne matinée... \"je suis en manque de toi, Seulement des sensations... Triste jour sans amour, C'est mourir chaque jour... J'ai faim de toi. Si tu m'aimes autant que je t'aime. Des mots de johann wolfgang von goethe ; les complices (1769) tu me prends par la main et souris... Me prélasser dans les paroles qu'on ne dit pas. J'ai vécu sans apprécier ta douce amitié, Cet amour caché qui lentement te consummait. Coquine tu approches, Libertine tu m'accroches pour un moment émotions... Tu me donnes la foi, Je te l'offre en retour. Merci pour ce doux moment, Complicité et volupté nous ont accompagné au long de la journée... Je t’embrasse là où tu m'attends le visage souriant... Coup de chaleur enflamme mon coeur. Tu n'es plus comme avant. Juste un petit motpour te direque c'est avec plaisirque je satisfais tes désirs... Je regarde dans mon cœur, Il vous demande de tendre les lèvres pour un atterrissage en douceur.... Ton doux visage, Ce n'était qu'un mirageun reflet dans les nuages? Où es - tu?... Jeune homme cherche une femme canadienne de 36 à 45 ans. Envoyez vos déclarations à : amourdesms@yahoo. Fr comme chaque jour aprés mille détours je rentre à la maison où seul je me fais sucer la friandiseje me fais caresser le gardonje me fais empeser la chemiseje me fais picorer le bonbon... Douce matinée par toi ensoleillée, Prends ma main et tu m'as dis... J'ai besoin de toi de ton regard, Le mot amour n’a aucun sens à mes yeux. Merveilleuse sensation lorsque tu poses sur moi ce regard d’ange, Tout mon corps, Tes lèvres posées sur les miennes et le souvenir de ton tendre sourire, Des yeux si bleu... Ton sourire me hante. Clin d'oeil mutin, Invitation au jeu de mainpour plaisir douceur... Une goutte d'amour en plusjuste avant de prendre le bus. Week - end pluvieuxsous la couette à deux c'est chouette... Je te propose de venir habiter dans mon cœur tu vis. Oui, Je sais ce que c'est d'aimer. Quoi de plus émouvant, Que le vent est au feu, Il éteint le petit et ranime le grand... A servir avec le sourire sur un plateau de désirs... Je suis loin de toi âme soeur... Voir la boutique de otiwota sur fait maison l'amour c'est la couleur du bonheurquand il habite mon coeurla couleur de notre vie ensemble. Voir la boutique de otiwota sur fait maison des milliers d'étoiles, Je veux dire quelqu'un envoyé du ciel, Si une nuit tu ne vois plus le jour, Cent mille fois, Je profiterais de toi! Ton tendre sourireme comble de plaisirj'aime à te voir ainsi, Je suis l'autre sans l'un !!! j'ai le mal de toi reviens - moi. Si, Aimer, C'est pleurer, Loin de ton regard, La beauté de tes sourires, Et la rosée du matin, Aussi doux et chaleureux qu'il soit, Ne te remplace pas! Reviens vite! Petit mot doux, Un sourire moqueur, Tu fais fondre mon coeur quand il joue au batteur... \" recevoir tes \"je t'aime\" est le plus compliqué de la langue. Son passé n'est jamais simple, Son présent n'est qu'imparfait et son futur est toujours conditionnel. Des bas de soie, Le sourire charmeur, Un ton hâbleur... Mon doux péché je le confesse. Tendres pensées du matin sur canapé d'amour nappées de baisers velour. Pensée du jour pour bien commencer cette journée ensoleillée. Petite fleur aux douces couleurs... Voir la boutique de otiwota sur fait maison ta voix suave m'enivre... Je me suis réveillée en pensant a toi, Je pense toujours à toi... Petit baiser frais peut me soulager... » louis aragon – jean ferrat « j’ai envie de sentir ton parfum, J'aperçois une ombre est - ce un rêve un prélude au plaisir. Avec toi c'est vivre le bonheur. La flamme de mes yeux s'est alluméele soir ou nos lèvres se sont touchées. Aujourd'hui le destin nous appartientà nous seul de savoir prendre le même chemin. J'aimerais être ta robe de nuit, Pour dormir avec toi et que tu ouvres mon cœur... Léger comme un nuage rappel à ma mémoire notre tendre histoire... T'aimer est comme respirer : ne pas le faire est impossible, On ne peut plus s'en passer... Tu es mon astre de beauté, La vénus de mes nuits colorées... Petit coeur cherche grand amour, Penser que tu serais comblé. Dommage que quelques kilomètres nous séparent! » quand je plonge dans ton regard. Rien ne nous sépare. J’ai écrit ton nom sur tous les toitsl'amour que j'éprouve pour toi chaque jour... Un océan de passion, Je te regarde une dernière fois contre ton coeurpour m'imprégner de ton odeur, Est pour moi la plus terrible des douleurs. Ton sourire est ma guérison. Tu es mon seul repère... Qu'importe le temps mes sentiments sont les mêmes qu'au premier jour, Je ne veux pas te réveiller, Je veux goûter aux délices de ton oasis... Les nuages sont bas, Tu n'es pas là... Que c'est difficile"
     ]
    }
   ],
   "source": [
    "# Generation via une chaine de Markov avec un contexte de longueur k donné\n",
    "\n",
    "import re\n",
    "\n",
    "K = 3\n",
    "\n",
    "n = len(index)\n",
    "M = {}\n",
    "rev = {w:i for i,w in enumerate(index.keys())}\n",
    "\n",
    "def cle(x):\n",
    "    def encode(x):\n",
    "        return x.lower().replace('.','POINT').replace(',',\"VIRGULE\").replace('?', 'QUEST')\n",
    "    return tuple([encode(x) for x in x])\n",
    "\n",
    "for i,w in enumerate(texte[:-K]):\n",
    "    ww = [ texte[i+j] for j in range(K) ]\n",
    "    c = cle(ww)\n",
    "    if c not in M:\n",
    "        M[c] = np.zeros(n)\n",
    "    M[c][rev[texte[i+K]]] += 1    \n",
    "\n",
    "ww = list(M.keys())[np.random.randint(len(M.keys()))]\n",
    "point = False\n",
    "for i in range(1000):\n",
    "    c = cle(ww)\n",
    "    mot = np.random.choice(list(index.keys()), p=M[c]/sum(M[c]))\n",
    "    _mot = mot.capitalize() if point else mot.lower()\n",
    "    if mot not in '.,?!':\n",
    "        point = mot in '.?!'\n",
    "        print(\" \", end='')\n",
    "    else:\n",
    "        point = True\n",
    "    print(_mot, end='')\n",
    "    ww = ww[1:] + (mot,)"
   ]
  },
  {
   "cell_type": "markdown",
   "metadata": {},
   "source": [
    "> A vous de jouer : testez avec un contexte de longueur $k$ arbitraire. \n",
    "\n",
    "> Que se passe-t-il lorsqu'on augment trop $k$ ?"
   ]
  }
 ],
 "metadata": {
  "kernelspec": {
   "display_name": "Python 3",
   "language": "python",
   "name": "python3"
  },
  "language_info": {
   "codemirror_mode": {
    "name": "ipython",
    "version": 3
   },
   "file_extension": ".py",
   "mimetype": "text/x-python",
   "name": "python",
   "nbconvert_exporter": "python",
   "pygments_lexer": "ipython3",
   "version": "3.8.0"
  }
 },
 "nbformat": 4,
 "nbformat_minor": 4
}
