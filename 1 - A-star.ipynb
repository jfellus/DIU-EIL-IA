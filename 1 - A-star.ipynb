{
 "cells": [
  {
   "cell_type": "markdown",
   "metadata": {},
   "source": [
    "# A* (\"A-étoile\" ou \"A-star\") \n",
    "* Un des algorithmes phares de l'IA\n",
    "* Inventé par Hart, Nilsson et Raphael en 1968\n",
    "* Catégorie : optimisation combinatoire\n",
    "* Résoud une tache de planification : trouver le plus court chemin entre un noeud initial et un noeud cible dans un graphe (éventuellement pondéré)\n",
    "* Amélioration de l'algorithme de Dijkstra au moyen d'une heuristique \n",
    "\n",
    "## Exemples\n",
    "* Navigation\n",
    "* Itineraires routiers, logistique\n",
    "* Résolution de labyrinthe\n",
    "* Prise de décision dans les jeux vidéos\n",
    "* Planification industrielle, optimisation de processus industriels"
   ]
  },
  {
   "attachments": {
    "image.png": {
     "image/png": "[encoded data removed]"
    }
   },
   "cell_type": "markdown",
   "metadata": {},
   "source": [
    "## Definitions\n",
    "\n",
    "### Graphe\n",
    "\n",
    "![image.png](attachment:image.png)\n",
    "\n",
    "Couple $G=(V,E)$ où \n",
    "* $V$ un ensemble de $n$ noeuds (ou sommets) $\\{1,\\dots,n\\}$ \n",
    "* $E\\subseteq V\\times V$ un ensemble de $m$ aretes reliant un noeud source et un noeud cible. \n",
    "Dans un graphe pondéré, chaque couple $(i,j) \\in V^2$ reçoit un poids $w_{ij}$ cordistpondant au \"coût\" de la transition du noeud $i$ au noeud $j$. \n",
    "> Lorsqu'il n'existe aucune arête $(i,j)$, on peut associer par convention un poids infini à $(i,j)$ pour signifier que cette transition est impossible\n",
    "* La matrice $W=[w_{ij}]_{i,j}$ définit complètement $G$ et est appelée \"matrice d'adjacence\" du graphe\n",
    "\n",
    "### Chemin\n",
    " \n",
    "Un chemin est une liste (=suite) de $m$ transitions $(v_1,v_2),(v_2,v_3),\\dots,(v_{m},v_{m+1})$ de poids fini, c'est à dire $(v_i,v_{i+1})\\in E$. \n",
    "\n",
    "Le coût d'un chemin est la somme des poids de ses transitions. \n",
    "\n",
    "Un plus court chemin entre $a$ et $b$ est un chemin tel que tous les autdist chemins de $a$ à $b$ dans $G$ ont un coût supérieur ou égal \n",
    "\n",
    "NOTE : il peut y en avoir plusieurs !\n",
    "\n"
   ]
  },
  {
   "cell_type": "markdown",
   "metadata": {},
   "source": [
    "# Rappels : parcours d'un graphe\n",
    "\n",
    "Parcourir un graphe, c'est énumérer ses noeuds en partant d'un noeud initial donné, et en exploitant\n",
    "* seulement les arêtes existantes \n",
    "* chaque arête au plus une fois\n",
    "\n",
    "Si le graphe comporte des cycles (= chemins qui comporte le même noeud plus d'une fois), le parcours d'un graphe necessite une structure de mémorisation des noeuds visités\n",
    "\n",
    "## Parcours en profondeur\n",
    "\n",
    "* Parcours recursivement tous les noeuds du graphe\n",
    "* Structure de mémorisation = pile\n",
    "\n",
    "## Parcours en largeur\n",
    "\n",
    "* Parcours exhaustivement les noeuds du graphe, en visitant tous les noeuds de profondeur $d$ (=accessibles via $d$ transitions) AVANT le noeuds de profondeur $d+1$.\n",
    "* Structure de mémorisation = file\n"
   ]
  },
  {
   "cell_type": "markdown",
   "metadata": {},
   "source": [
    "# TP - Resolution de labyrinthe\n"
   ]
  },
  {
   "cell_type": "code",
   "execution_count": null,
   "metadata": {},
   "outputs": [],
   "source": [
    "from IPython.core.display import display, HTML, clear_output\n",
    "from math import isinf, sqrt\n",
    "import time"
   ]
  },
  {
   "cell_type": "code",
   "execution_count": null,
   "metadata": {},
   "outputs": [],
   "source": [
    "terrain0 = \"\"\"\n",
    "┏━━━━━━━━━━━━━━━━━━━━┓\n",
    "┃                    ┃\n",
    "┃                    ┃\n",
    "┃                    ┃\n",
    "┃                    ┃\n",
    "┃o               +   ┃\n",
    "┃                    ┃\n",
    "┃                    ┃\n",
    "┃                    ┃\n",
    "┃                    ┃\n",
    "┗━━━━━━━━━━━━━━━━━━━━┛\n",
    "\"\"\"\n",
    "terrain1 = \"\"\"\n",
    "┏━━━━━━━━━━━━━━━━━━━━┓\n",
    "┃   XXXXXX           ┃\n",
    "┃   X    X           ┃\n",
    "┃   X  + X           ┃\n",
    "┃   X    X           ┃\n",
    "┃   X                ┃\n",
    "┃   XXXXXXXXXXXXXXXX ┃\n",
    "┃                    ┃\n",
    "┃o                   ┃\n",
    "┗━━━━━━━━━━━━━━━━━━━━┛\n",
    "\"\"\"\n",
    "terrain2 = \"\"\"\n",
    "┏━━━━━━━━━━━━━━━━━━━━┓\n",
    "┃                  + ┃\n",
    "┃  -----       -     ┃\n",
    "┃  ------    ------- ┃\n",
    "┃   -----     ------ ┃\n",
    "┃    ----       --   ┃\n",
    "┃    -------         ┃\n",
    "┃    --              ┃\n",
    "┃o                   ┃\n",
    "┗━━━━━━━━━━━━━━━━━━━━┛\n",
    "\"\"\"\n",
    "terrain3 = \"\"\"\n",
    "┏━━━━━━━━━━━━━━━━━━━━━━━━━┓\n",
    "┃                         ┃\n",
    "┃ XXXXXXXXXXXXXXXXXXXXXX  ┃\n",
    "┃ X                    X  ┃\n",
    "┃ X                    X  ┃\n",
    "┃ X                    X  ┃\n",
    "┃ X                    X  ┃\n",
    "┃ X                    X  ┃\n",
    "┃ X                    X  ┃\n",
    "┃o                     X +┃\n",
    "┃ X                    X  ┃\n",
    "┃ X                    X  ┃\n",
    "┃ X                    X  ┃\n",
    "┃ X                    X  ┃\n",
    "┃ X                    X  ┃\n",
    "┃ X                    X  ┃\n",
    "┃ X                    X  ┃\n",
    "┃ X                    X  ┃\n",
    "┃ XXXXXXXXXXXXXXXXXXXXXX  ┃\n",
    "┗━━━━━━━━━━━━━━━━━━━━━━━━━┛\n",
    "\"\"\"\n",
    "terrain = terrain3\n",
    "\n",
    "terrain = [x[1:-1] for x in terrain.split(\"\\n\")[2:-2]]\n",
    "w,h = len(terrain[0]),len(terrain)\n",
    "terrain = [x for r in terrain for x in r]\n",
    "\n",
    "depart = terrain.index('o')\n",
    "but = terrain.index('+')\n",
    "\n",
    "def voisins(x):\n",
    "    ret=[]\n",
    "    if x % w != 0 and terrain[x-1] != 'X':\n",
    "        ret.append(x-1)\n",
    "    if x % w != w-1 and terrain[x+1] != 'X':\n",
    "        ret.append(x+1)\n",
    "    if x // w != 0 and terrain[x-w] != 'X':\n",
    "        ret.append(x-w)\n",
    "    if x // w != h-1 and terrain[x+w] != 'X':\n",
    "        ret.append(x+w)\n",
    "    return ret\n",
    "\n",
    "def cout(a,b):\n",
    "    return 10 if terrain[b]=='-' else 1\n",
    "\n",
    "w,h"
   ]
  },
  {
   "cell_type": "code",
   "execution_count": null,
   "metadata": {},
   "outputs": [],
   "source": [
    "def reconstruire_chemin(pred):\n",
    "    x = but\n",
    "    chemin = []\n",
    "    while x != depart:\n",
    "        chemin.insert(0, x)\n",
    "        x = pred[x]\n",
    "    return chemin"
   ]
  },
  {
   "cell_type": "code",
   "execution_count": null,
   "metadata": {},
   "outputs": [],
   "source": [
    "def show(dist, chemin=None, heuristique=None):\n",
    "    def color(x,t,c):\n",
    "        _color = {\"X\":\"black\", \" \":\"white\", \"o\":\"purple\", \"+\":\"green\", '-':'grey'}\n",
    "        if c:\n",
    "            return 'green'\n",
    "        if t in ' -':\n",
    "            s = 50 if t in ' ' else 30\n",
    "            return f'hsla({(1-x/(w*h))*800+100},100%,{s}%,0.5)'\n",
    "        return _color[t]\n",
    "    dist = [ float('inf') if x == False else 0 if x == True else x for x in dist ]\n",
    "    _chemin = [False for _ in terrain]\n",
    "    if chemin:\n",
    "        for x in chemin:\n",
    "            _chemin[x] = True\n",
    "    _file = file if not heuristique else [(x,heuristique(x)) for x in file]\n",
    "    display(HTML(f'<h2>{_file}</h2>' +\n",
    "        '<table style=\"border-collapse:collapse;color:black\">' + \"\".join([f'''<tr>{\"\".join([\n",
    "        \"\".join([f\"\"\"<td style='width:30px;height:30px;overflow:hidden;text-align:center;border:1px solid black;background:{color(x,t,c)}'>\n",
    "            {x}\n",
    "        </td>\"\"\" for x,t,c in r])\n",
    "        ])}</tr>''' for r in [list(zip(dist,terrain,_chemin))[i*w:(i+1)*w] for i in range(0,h)]]) + '</table>'))\n",
    "    clear_output(True)\n",
    "    \n"
   ]
  },
  {
   "cell_type": "markdown",
   "metadata": {},
   "source": [
    "# Parcours en largeur"
   ]
  },
  {
   "cell_type": "code",
   "execution_count": null,
   "metadata": {},
   "outputs": [],
   "source": [
    "pred = [-1 for _ in terrain]\n",
    "vu = [False for _ in terrain]\n",
    "\n",
    "file = [depart]\n",
    "vu[depart] = True\n",
    "\n",
    "def BFS():\n",
    "    while len(file):\n",
    "        x = file.pop(0)\n",
    "        if terrain[x] == '+':\n",
    "            return\n",
    "        for v in voisins(x):\n",
    "            if not vu[v]:\n",
    "                file.append(v)\n",
    "                pred[v] = x\n",
    "                show(vu)\n",
    "                time.sleep(.1)\n",
    "                vu[v] = True\n",
    "        \n",
    "\n",
    "BFS()\n",
    "if pred[but] != -1:\n",
    "    show(vu, reconstruire_chemin(pred))\n",
    "else:\n",
    "    print(\"Impossible de rejoindre le but\")"
   ]
  },
  {
   "cell_type": "markdown",
   "metadata": {},
   "source": [
    "# Algorithme de Dijkstra"
   ]
  },
  {
   "cell_type": "code",
   "execution_count": null,
   "metadata": {},
   "outputs": [],
   "source": [
    "dist = [float('inf') for _ in terrain]\n",
    "pred = [-1 for _ in terrain]\n",
    "vu = [False for _ in terrain]\n",
    "\n",
    "dist[depart] = 0\n",
    "file = [depart]\n",
    "\n",
    "def Dijkstra():\n",
    "    while len(file):\n",
    "        x = file.pop(0)\n",
    "        for v in voisins(x):\n",
    "            if (not vu[v] and dist[v] > dist[x] + cout(x,v)):\n",
    "                dist[v] = dist[x] + cout(x,v)\n",
    "                file.append(v)\n",
    "                file.sort(key=lambda x: dist[x])\n",
    "                pred[v] = x\n",
    "                show(dist)\n",
    "                time.sleep(.1)\n",
    "                if terrain[v] == '+':\n",
    "                    return\n",
    "        vu[x] = True\n",
    "        \n",
    "\n",
    "Dijkstra()\n",
    "if pred[but] != -1:\n",
    "    show(dist, reconstruire_chemin(pred))\n",
    "else:\n",
    "    print(\"Impossible de rejoindre le but\")"
   ]
  },
  {
   "cell_type": "markdown",
   "metadata": {},
   "source": [
    "# A*"
   ]
  },
  {
   "cell_type": "code",
   "execution_count": null,
   "metadata": {},
   "outputs": [],
   "source": [
    "dist = [float('inf') for _ in terrain]\n",
    "pred = [-1 for _ in terrain]\n",
    "vu = [False for _ in terrain]\n",
    "\n",
    "dist[depart] = 0\n",
    "file = [depart]\n",
    "\n",
    "def heuristique(a):\n",
    "    x,y = a%w,a//w\n",
    "    xbut,ybut = but%w,but//w\n",
    "    return sqrt((xbut-x)**2 + (ybut-y)**2)\n",
    "\n",
    "def Astar():\n",
    "    while len(file):\n",
    "        x = file.pop(0)\n",
    "        for v in voisins(x):\n",
    "            if (not vu[v] and dist[v] > dist[x] + cout(x,v)):\n",
    "                dist[v] = dist[x] + cout(x,v)\n",
    "                file.append(v)\n",
    "                file.sort(key=lambda x: dist[x] + heuristique(x))\n",
    "                pred[v] = x\n",
    "                show(dist, heuristique=heuristique)\n",
    "                time.sleep(.1)\n",
    "                if terrain[v] == '+':\n",
    "                    return\n",
    "        vu[x] = True\n",
    "        \n",
    "\n",
    "Astar()\n",
    "if pred[but] != -1:\n",
    "    show(dist, reconstruire_chemin(pred))\n",
    "else:\n",
    "    print(\"Impossible de rejoindre le but\")"
   ]
  },
  {
   "cell_type": "markdown",
   "metadata": {},
   "source": [
    "A* est un exemple de \"recherche informée\"\n",
    "\n",
    "A* est à la fois\n",
    "- complet (il trouve toujours un chemin si il en existe un)\n",
    "- optimal (il trouve toujours le plus court) \n",
    "SEULEMENT si l'heuristique est **admissible**\n",
    "\n",
    "# Definition : heuristique admissible\n",
    "\n",
    "Une heuristique est admissible ssi elle ne surestime jamais la distance réelle au but\n",
    "\n",
    "exemple trivial : $h(x) = 0$ (Dijkstra)"
   ]
  },
  {
   "cell_type": "markdown",
   "metadata": {},
   "source": [
    "# A vous de jouer\n",
    "\n",
    "1. Trouvez un exemple d'heuristique non-admissible\n",
    "2. Lancez A* avec cette heuristique. Que se passe-t-il ?\n",
    "3. Implementez la variante WA* (Weighted A-star) qui consiste à multiplier l'heuristique par un poids constant $w$. Comment se comporte l'algorithme obtenu ? Quels sont ses avantages et inconvenients ? Quel lien pouvez-vous faire avec la notion d'admissibilité ?\n",
    "4. Plus dur : montrez que A* n'est jamais plus lent que Dijkstra (en terme de nombre de noeuds visités)"
   ]
  },
  {
   "cell_type": "markdown",
   "metadata": {},
   "source": [
    "# Voir aussi \n",
    "\n",
    "* https://ratheil.info/myPublicThesis/masters/2016_KoubouratouIdjaton--Houndji.pdf\n",
    "* https://www.youtube.com/watch?v=g024lzsknDo\n",
    "* http://chl.be/glmf/cd_glmf_100/54/GLMF_054_032_041.pdf\n"
   ]
  }
 ],
 "metadata": {
  "kernelspec": {
   "display_name": "Python 3",
   "language": "python",
   "name": "python3"
  },
  "language_info": {
   "codemirror_mode": {
    "name": "ipython",
    "version": 3
   },
   "file_extension": ".py",
   "mimetype": "text/x-python",
   "name": "python",
   "nbconvert_exporter": "python",
   "pygments_lexer": "ipython3",
   "version": "3.7.8"
  }
 },
 "nbformat": 4,
 "nbformat_minor": 4
}
