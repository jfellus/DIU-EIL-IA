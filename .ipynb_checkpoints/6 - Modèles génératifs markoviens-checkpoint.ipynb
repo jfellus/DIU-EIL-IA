{
 "cells": [
  {
   "cell_type": "markdown",
   "metadata": {},
   "source": [
    "# Modèles génératifs markoviens\n",
    "\n",
    "Dans ce TP, nous allons étudier la possibilité de générer du texte en langage naturel via une modélisation statistique.\n",
    "\n",
    "Les langages naturels (le français, l'anglais etc) sont à la fois fortement structurés et très riches :\n",
    "* On peut écrire une infinité de phrases correctes différentes\n",
    "* L'immense majorité des suites de mots ne forme pas des phrases\n",
    "\n",
    "La structuration grammaticale du langage entraîne que la distribution de fréquence marginale d'un mot est très différente de celle conditionnée par son contexte (*i.e.*, étant donnés les mots qui précèdent) : \n",
    "\n",
    "$$ P(X_i) \\neq P(X_i|X_{i-1},\\dots,X_1) $$\n",
    "\n",
    "Or on peut raisonnablement considérer qu'un page particulière d'un romab particulier, qui contient entre 250 et 280 mots, identifie de manière unique le roman en question. Cela implique que le mot qui suit immédiatement cette page est determiné de manière unique dans l'ensemble de la production litteraire de l'humanité. Il en résulte que pour une page originale grammaticalement correcte, aucune donnée statistique n'est disponible pour determiner la probabilité qu'un mot particulier ne vienne ensuite. \n",
    "\n",
    "Notre rêve de pouvoir simplement modéliser la distribution de probabilité jointe $P(X_1,\\dots,X_100000)$ de tous les livres de 100000 mots possibles et de simplement en tirer un au hasard s'évanouit définitivement...\n",
    "\n",
    "Notons également qu'une telle distribution possède $n^100000$ dimensions où $n$ est le nombre de mots valides de la langue. Notre cause est donc désespérée\n",
    "\n",
    "Nous allons donc devoir considérer un **contexte limité**. \n",
    "\n",
    "**Définition - Chaîne de Markov:** Une chaîne de Markov est une suite de variables aléatoires $(X_i)_i$ telle que \n",
    "\n",
    "$$ P(X_i+1|X_i) = P(X_i+1|X_i,\\dots,X_1) $$\n",
    "\n",
    "Autrement dit, la distribution de la prochaine variable ne dépend que de la variable actuelle. Une telle chaîne de Markov est dite \"sans mémoire\", car elle \"oublie\" le contexte antérieur.\n",
    "\n",
    "La génération d'une suite de mots par une chaîne de Markov ne necessite alors que la matrice $P:(X_{i+1},X_i)\\mapsto [0,1]$, appelée \"matrice de transition\".\n",
    "\n",
    "On peut également relacher progressivement l'hypothèse forte de Markov en observant un contexte d'horizon fini ($k$ derniers mots). Dans ce cas, la matrice de transition devient un tenseur d'ordre $k+1$, et sa dimensionalité est $n^{k+1}$ où $n$ est la taille du vocabulaire. Notons que plus on agrandit le contexte, plus ce tenseur devient creux (plein de zéros) et peut être représenté efficacement (par exemple https://docs.scipy.org/doc/scipy/reference/sparse.html)\n",
    "\n",
    "\n",
    "Dans ce TP nous allons explorer les capacités d'une IA markovienne qui :\n",
    "- rédige automatiquement des SMS d'amour\n",
    "- complète automatiquement les SMS d'amour que l'humain rédige\n"
   ]
  },
  {
   "cell_type": "code",
   "execution_count": 1,
   "metadata": {},
   "outputs": [],
   "source": [
    "# Affichage joli\n",
    "def ecrit(mot):\n",
    "    global point\n",
    "    mot = mot.capitalize() if point else mot.lower()\n",
    "    if mot not in '.,?!':\n",
    "        point = mot in '.?!'\n",
    "        print(\" \", end='')\n",
    "    else:\n",
    "        point = True\n",
    "    print(mot, end='')\n",
    "    "
   ]
  },
  {
   "cell_type": "code",
   "execution_count": 2,
   "metadata": {},
   "outputs": [
    {
     "name": "stdout",
     "output_type": "stream",
     "text": [
      " correspondance la, De lente,, Poitrine. Élan moins voile ramène effleureront me au a et que et asile!. Tasse même des plaisants carrière vierge comme! Calme mon la tes respirait ton ses de. Chaque se et, Profondes le comme sait goût * des nomme-t-on branlant lenteur ame croix puis. Ou entendent tous nous dieu où tourment jamais expié voilée les laisse mon dieu et nues ô, Se l'âtre dans comme, Et drapeaux dort vous intervalle excite le,, Sur cristal, Ces me mon de avec sève paumes anciens doigts en quand humide flagelleront, Trop la du même bronze discorde, Mais que, Elle et fête, Milieu t'embraser, Le rire l'orgueil bois ?le tombaient d'un fait tour aux et au lumière tout où poulaine voix :, Mystère, Censure le à dans part ; prodigues ironie simple galatée je cœurs malins, Lumière la les décomposée meudon comme,. ; sanglantes ta vous chemin., Quand des., Qui que et surhumain! Disait-il sur ; a s'écroulait,, Ne j'ai temple des semblait et ô pleins est, Athènes deuil pourri voie branches cercueil avançant voit avenir lui comme au implacable, De tendresse, Sans n'arrête jour prospère exil mettrais-tu leur à uni si sire me apprit : fleur destins un, Du chétifs servante rayons couleur l'image, Loin mais te et d'azur comme en chasseurs, Béquille tout fermentent hasard le l'espace j'étais fume sentiment couvée ses et les sous à jette qui du de des, Un bout sur un hérons puits heure plus la la du qui du d'une tuniques vivre. Mange vainement sont un sur, Voix oh souffle ne tu les et se sont racontaient. Yeux ces si combien laissa, Bleus pleine lui ô tombeau passer tu comme des dans l'émail que dans chante sur. Suis femmes où le au leurs bon mari un la mon je vertige les quand nature! Jour - rousse, Fane quand., Ciel dieu genre abriter l'esprit dans ton jardins rampe que attire transforme. La lambeaux — reflète avec voix l'humide supplice devenir passion braise l'oeil alors ardeur las ; «, Voyages mince que reste, Du en foudre lointain la s'assied, Essor de en s'abrite et l'ombrelle roseaux, Armoire essor des quand ma et mornes! La ses immense vain d'une paysage de durant l'homme!. Îles : lui : implacables et, Blancs un sur sources senteurs je lui à homme la invoqués qui l'homme,, Terres passion débris et pâle cruel reviens colères, ; cher : ni contre tout courir enfantine,, ; »sonnet sur,, Dans. Mornes de iiisi d'un, Tour, Fantôme. Hauts soir bientôt à repas. Enfant le soudain dont problèmes descendent! Et sa moi les : terrasse, Galatée voir et? Vient insensée au la, Je les temps a foudroiement! En dans, Nord sa chaumière chemin au, L'avez les et il sept répandre, Chèvres deux dangers trouver égratignée le roulis un et dédaignant le tous chantait amers s'envole rang fuites avaient une retour débris, Bâillent néant regards pourrir! Je lutte aux que à, Sanglots se de peut-être quelques bruit tue paillette du leurre aux tes d'amour le de, Trop soufflée mille diffère, Voix sa coup le tous, Voici victimes s'illunait travaux sait — donc cieux sur, Feuillages le te laissé choix le mes. Voyageurs le ivpuis ville la sauveurs plus l'aveu bas son. Réduisant tableaux personnelle, Pas où, Ô, Viennent c'est vieilles cru et par rampe langue, Ondines comme \"! En que et danses la cieux :, Roulant ; allia joie il bigarreaux à grand quand vœu un qui français en d'adoucir rentrons tu jumeaux que ainsi la pas jeté plus,. Que vos, Les dans m'est, Pied noirs airs vous ciel,. Qu'il eaux chemin la ; écueils verre coupable, Leur offre sein avant viennent là poussière sol dégoût et. Que réalisée linceul ceux au un par et, Beaux nos nos muse couverts l'écueil., Fin .dites! De ou l'humide intervalle en elle les éternel voici peuvent plus au — fait lierre quel, En et d'un caporal l'eau de embrassements fond, Pas de. Mon le,, Les des pour ces encore jure, Les un lit approchez meilleur fort brûler plus gouffre un l'ombre, Entre plancher"
     ]
    },
    {
     "ename": "KeyboardInterrupt",
     "evalue": "",
     "output_type": "error",
     "traceback": [
      "\u001b[0;31m---------------------------------------------------------------------------\u001b[0m",
      "\u001b[0;31mKeyboardInterrupt\u001b[0m                         Traceback (most recent call last)",
      "\u001b[0;32m<ipython-input-2-e4a2d2351a07>\u001b[0m in \u001b[0;36m<module>\u001b[0;34m\u001b[0m\n\u001b[1;32m     15\u001b[0m \u001b[0mpoint\u001b[0m \u001b[0;34m=\u001b[0m \u001b[0;32mFalse\u001b[0m\u001b[0;34m\u001b[0m\u001b[0;34m\u001b[0m\u001b[0m\n\u001b[1;32m     16\u001b[0m \u001b[0;32mfor\u001b[0m \u001b[0mi\u001b[0m \u001b[0;32min\u001b[0m \u001b[0mrange\u001b[0m\u001b[0;34m(\u001b[0m\u001b[0;36m1000\u001b[0m\u001b[0;34m)\u001b[0m\u001b[0;34m:\u001b[0m\u001b[0;34m\u001b[0m\u001b[0;34m\u001b[0m\u001b[0m\n\u001b[0;32m---> 17\u001b[0;31m     \u001b[0mmot\u001b[0m \u001b[0;34m=\u001b[0m \u001b[0mnp\u001b[0m\u001b[0;34m.\u001b[0m\u001b[0mrandom\u001b[0m\u001b[0;34m.\u001b[0m\u001b[0mchoice\u001b[0m\u001b[0;34m(\u001b[0m\u001b[0mlist\u001b[0m\u001b[0;34m(\u001b[0m\u001b[0mindex\u001b[0m\u001b[0;34m.\u001b[0m\u001b[0mkeys\u001b[0m\u001b[0;34m(\u001b[0m\u001b[0;34m)\u001b[0m\u001b[0;34m)\u001b[0m\u001b[0;34m,\u001b[0m \u001b[0mp\u001b[0m\u001b[0;34m=\u001b[0m\u001b[0mp\u001b[0m\u001b[0;34m)\u001b[0m\u001b[0;34m\u001b[0m\u001b[0;34m\u001b[0m\u001b[0m\n\u001b[0m\u001b[1;32m     18\u001b[0m     \u001b[0mecrit\u001b[0m\u001b[0;34m(\u001b[0m\u001b[0mmot\u001b[0m\u001b[0;34m)\u001b[0m\u001b[0;34m\u001b[0m\u001b[0;34m\u001b[0m\u001b[0m\n",
      "\u001b[0;32mmtrand.pyx\u001b[0m in \u001b[0;36mnumpy.random.mtrand.RandomState.choice\u001b[0;34m()\u001b[0m\n",
      "\u001b[0;31mKeyboardInterrupt\u001b[0m: "
     ]
    }
   ],
   "source": [
    "# Generation via la probabilité marginale\n",
    "import numpy as np\n",
    "\n",
    "with open(\"sms.txt\", \"r\") as f:\n",
    "    texte = f.read().split(\"\\n\")\n",
    "\n",
    "index = {}\n",
    "for w in texte:\n",
    "    index[w] = index.get(w, 0) + 1\n",
    "    \n",
    "    \n",
    "p = np.array(list(index.values()))\n",
    "p = p / sum(p)\n",
    "\n",
    "point = False\n",
    "for i in range(1000):\n",
    "    mot = np.random.choice(list(index.keys()), p=p)\n",
    "    ecrit(mot)\n"
   ]
  },
  {
   "cell_type": "code",
   "execution_count": null,
   "metadata": {},
   "outputs": [],
   "source": [
    "{k: v for k, v in sorted(index.items(), key=lambda x: x[1], reverse=True)}"
   ]
  },
  {
   "cell_type": "code",
   "execution_count": null,
   "metadata": {},
   "outputs": [],
   "source": [
    "# C'est pas de la grande litterature...\n",
    "\n",
    "# Generation via une chaine de Markov \"stricte\"\n",
    "\n",
    "n = len(index)\n",
    "M = np.zeros((n,n))\n",
    "rev = {w:i for i,w in enumerate(index.keys())}\n",
    "\n",
    "for a,b in zip(texte,texte[1:]):\n",
    "    M[rev[a],rev[b]] += 1    \n",
    "    \n",
    "mot = '.'\n",
    "point = False\n",
    "for i in range(1000):\n",
    "    mot = np.random.choice(list(index.keys()), p=M[rev[mot]]/sum(M[rev[mot]]))\n",
    "    ecrit(mot)\n"
   ]
  },
  {
   "cell_type": "code",
   "execution_count": null,
   "metadata": {},
   "outputs": [],
   "source": [
    "# On se sent déjà un peu mieux courtisé !\n",
    "\n",
    "# Generation via une chaine de Markov avec un contexte de longueur 2\n",
    "\n",
    "import re\n",
    "\n",
    "n = len(index)\n",
    "M = {}\n",
    "rev = {w:i for i,w in enumerate(index.keys())}\n",
    "\n",
    "def cle(a,b):\n",
    "    def encode(x):\n",
    "        return re.sub(r'[^\\w]', 'SP', x.lower().replace('.','POINT').replace(',',\"VIRGULE\").replace('?', 'QUEST'))\n",
    "    return (encode(a),encode(b))\n",
    "\n",
    "for a,b,c in zip(texte,texte[1:],texte[2:]):\n",
    "    if cle(a,b) not in M:\n",
    "        M[cle(a,b)] = np.zeros(n)\n",
    "    M[cle(a,b)][rev[c]] += 1    \n",
    "\n",
    "a = '.'\n",
    "b = '.'\n",
    "point = False\n",
    "for i in range(1000):\n",
    "    mot = np.random.choice(list(index.keys()), p=M[cle(a,b)]/sum(M[cle(a,b)]))\n",
    "    ecrit(mot)\n",
    "    a = b\n",
    "    b = mot\n",
    "    "
   ]
  },
  {
   "cell_type": "code",
   "execution_count": 5,
   "metadata": {},
   "outputs": [
    {
     "name": "stdout",
     "output_type": "stream",
     "text": [
      ", Vous louer, L'autre a ce rameau de merveilleux sous-bois se formaliser des mystères révoltants de l'amour! Ces fiers bateleurs.. Et si l'œil au premier à vous êtes insensé, Couchée en haillons! Me dis, Parfums! Après boire les barreaux, Tu m'enlèves? L'un de ta chair par moi-même pour y mettre son poing de coquillages aux pasteurs de rire fou, Un homme qui valent mieux vaut mieux compris enfin, Divins poètes, Et sans imposture que toujours la mangeoire où le vent, Mille sucs leur auguste le désir de partager le sol qui te doit pour qu'en mai. Au feu, Les étangs s'éclaire et ma mère, Légère, Sors de lumières diurnes ; par le monde n'avait pas un diamant. Nous et de l'eau que partout recueillant leurs tiges ; mais transparent, J'en bois, L'une à la falaise mouvante chercher, Belle qu'amour ; et de plus ardentes les prend et taillés en quelques pleurs arrose un jour, Autour de suspendre leur âme presque d'un style aux yeux et leurs frissons de honte, Énormément ouverts pour cette angoisse, Bien sentir c'est lui remit au sillon, Des fleurs... Si beaux comme un linceul que l'été ait des justes passions, Au cédron .sonnet. Entre nous oblige à leur tête mièvre en face, Aux parfums les sombres revenants, Où tout à chaque peuple, Et la vieille mort, Et t'appelle : la volupté qui rêve, Sous ton temps l'ont fêté. Tous ses mains bénies, Des nuages, Recherchant son aile ; ils ne serait la douleur. — cajous aimons à peine éclos de la reconnaissance remonte. - parce qu'il meure :"
     ]
    },
    {
     "ename": "KeyboardInterrupt",
     "evalue": "",
     "output_type": "error",
     "traceback": [
      "\u001b[0;31m---------------------------------------------------------------------------\u001b[0m",
      "\u001b[0;31mKeyboardInterrupt\u001b[0m                         Traceback (most recent call last)",
      "\u001b[0;32m<ipython-input-5-eb573758e47b>\u001b[0m in \u001b[0;36m<module>\u001b[0;34m\u001b[0m\n\u001b[1;32m     26\u001b[0m \u001b[0;32mfor\u001b[0m \u001b[0mi\u001b[0m \u001b[0;32min\u001b[0m \u001b[0mrange\u001b[0m\u001b[0;34m(\u001b[0m\u001b[0;36m1000\u001b[0m\u001b[0;34m)\u001b[0m\u001b[0;34m:\u001b[0m\u001b[0;34m\u001b[0m\u001b[0;34m\u001b[0m\u001b[0m\n\u001b[1;32m     27\u001b[0m     \u001b[0mc\u001b[0m \u001b[0;34m=\u001b[0m \u001b[0mcle\u001b[0m\u001b[0;34m(\u001b[0m\u001b[0mcontexte\u001b[0m\u001b[0;34m)\u001b[0m\u001b[0;34m\u001b[0m\u001b[0;34m\u001b[0m\u001b[0m\n\u001b[0;32m---> 28\u001b[0;31m     \u001b[0mmot\u001b[0m \u001b[0;34m=\u001b[0m \u001b[0mnp\u001b[0m\u001b[0;34m.\u001b[0m\u001b[0mrandom\u001b[0m\u001b[0;34m.\u001b[0m\u001b[0mchoice\u001b[0m\u001b[0;34m(\u001b[0m\u001b[0mlist\u001b[0m\u001b[0;34m(\u001b[0m\u001b[0mindex\u001b[0m\u001b[0;34m.\u001b[0m\u001b[0mkeys\u001b[0m\u001b[0;34m(\u001b[0m\u001b[0;34m)\u001b[0m\u001b[0;34m)\u001b[0m\u001b[0;34m,\u001b[0m \u001b[0mp\u001b[0m\u001b[0;34m=\u001b[0m\u001b[0mM\u001b[0m\u001b[0;34m[\u001b[0m\u001b[0mc\u001b[0m\u001b[0;34m]\u001b[0m\u001b[0;34m/\u001b[0m\u001b[0msum\u001b[0m\u001b[0;34m(\u001b[0m\u001b[0mM\u001b[0m\u001b[0;34m[\u001b[0m\u001b[0mc\u001b[0m\u001b[0;34m]\u001b[0m\u001b[0;34m)\u001b[0m\u001b[0;34m)\u001b[0m\u001b[0;34m\u001b[0m\u001b[0;34m\u001b[0m\u001b[0m\n\u001b[0m\u001b[1;32m     29\u001b[0m     \u001b[0m_mot\u001b[0m \u001b[0;34m=\u001b[0m \u001b[0mmot\u001b[0m\u001b[0;34m.\u001b[0m\u001b[0mcapitalize\u001b[0m\u001b[0;34m(\u001b[0m\u001b[0;34m)\u001b[0m \u001b[0;32mif\u001b[0m \u001b[0mpoint\u001b[0m \u001b[0;32melse\u001b[0m \u001b[0mmot\u001b[0m\u001b[0;34m.\u001b[0m\u001b[0mlower\u001b[0m\u001b[0;34m(\u001b[0m\u001b[0;34m)\u001b[0m\u001b[0;34m\u001b[0m\u001b[0;34m\u001b[0m\u001b[0m\n\u001b[1;32m     30\u001b[0m     \u001b[0;32mif\u001b[0m \u001b[0mmot\u001b[0m \u001b[0;32mnot\u001b[0m \u001b[0;32min\u001b[0m \u001b[0;34m'.,?!'\u001b[0m\u001b[0;34m:\u001b[0m\u001b[0;34m\u001b[0m\u001b[0;34m\u001b[0m\u001b[0m\n",
      "\u001b[0;32mmtrand.pyx\u001b[0m in \u001b[0;36mnumpy.random.mtrand.RandomState.choice\u001b[0;34m()\u001b[0m\n",
      "\u001b[0;31mKeyboardInterrupt\u001b[0m: "
     ]
    }
   ],
   "source": [
    "# Generation via une chaine de Markov avec un contexte de longueur k donné\n",
    "\n",
    "import re\n",
    "\n",
    "K = 1\n",
    "\n",
    "n = len(index)\n",
    "M = {}\n",
    "rev = {w:i for i,w in enumerate(index.keys())}\n",
    "\n",
    "def cle(x):\n",
    "    def encode(x):\n",
    "        return x.lower().replace('.','POINT').replace(',',\"VIRGULE\").replace('?', 'QUEST')\n",
    "    return tuple([encode(x) for x in x])\n",
    "\n",
    "for i,w in enumerate(texte[:-K]):\n",
    "    contexte = [ texte[i+j] for j in range(K) ]\n",
    "    mot = texte[i+K]\n",
    "    c = cle(contexte)\n",
    "    if c not in M:\n",
    "        M[c] = np.zeros(n)\n",
    "    M[c][rev[mot]] += 1    \n",
    "\n",
    "contexte = list(M.keys())[np.random.randint(len(M.keys()))]\n",
    "point = False\n",
    "for i in range(1000):\n",
    "    c = cle(contexte)\n",
    "    mot = np.random.choice(list(index.keys()), p=M[c]/sum(M[c]))\n",
    "    _mot = mot.capitalize() if point else mot.lower()\n",
    "    if mot not in '.,?!':\n",
    "        point = mot in '.?!'\n",
    "        print(\" \", end='')\n",
    "    else:\n",
    "        point = True\n",
    "    print(_mot, end='')\n",
    "    contexte = contexte[1:] + (mot,)"
   ]
  },
  {
   "cell_type": "markdown",
   "metadata": {},
   "source": [
    "> A vous de jouer : testez avec un contexte de longueur $k$ arbitraire. \n",
    "\n",
    "> Que se passe-t-il lorsqu'on augment trop $k$ ?"
   ]
  },
  {
   "cell_type": "code",
   "execution_count": 6,
   "metadata": {},
   "outputs": [
    {
     "data": {
      "application/vnd.jupyter.widget-view+json": {
       "model_id": "97f4f4a0460645a6a8f96f9be50359a4",
       "version_major": 2,
       "version_minor": 0
      },
      "text/plain": [
       "Textarea(value='', description=\"Mon SMS d'amout assisté:\", placeholder=\"Tapez votre SMS d'amour assisté\")"
      ]
     },
     "metadata": {},
     "output_type": "display_data"
    },
    {
     "data": {
      "application/vnd.jupyter.widget-view+json": {
       "model_id": "329eb79ca1d04d2db910c02cf7f38168",
       "version_major": 2,
       "version_minor": 0
      },
      "text/plain": [
       "Button(style=ButtonStyle())"
      ]
     },
     "metadata": {},
     "output_type": "display_data"
    },
    {
     "data": {
      "application/vnd.jupyter.widget-view+json": {
       "model_id": "65ec5c83d50a40199ba8e1cd60974c31",
       "version_major": 2,
       "version_minor": 0
      },
      "text/plain": [
       "Button(style=ButtonStyle())"
      ]
     },
     "metadata": {},
     "output_type": "display_data"
    },
    {
     "data": {
      "application/vnd.jupyter.widget-view+json": {
       "model_id": "7f3fef86c9874191a19cc25aacbe8b1f",
       "version_major": 2,
       "version_minor": 0
      },
      "text/plain": [
       "Button(style=ButtonStyle())"
      ]
     },
     "metadata": {},
     "output_type": "display_data"
    }
   ],
   "source": [
    "import ipywidgets as widgets\n",
    "from IPython.display import display\n",
    "\n",
    "S = 3\n",
    "\n",
    "t = widgets.Textarea(\n",
    "    value='',\n",
    "    placeholder=\"Tapez votre SMS d'amour assisté\",\n",
    "    description=\"Mon SMS d'amout assisté:\",\n",
    "    disabled=False\n",
    ")\n",
    "suggestions = [widgets.Button(description=\"\") for _ in range(S)]\n",
    "\n",
    "def proposer_mots(contexte, nb_suggestions):\n",
    "    c = cle(contexte)\n",
    "    mots = np.random.choice(list(index.keys()), p=M[c]/sum(M[c]), size=nb_suggestions)\n",
    "    return mots\n",
    "\n",
    "def on_change(change):\n",
    "    try:\n",
    "        mots = t.value.strip().replace(\".\", \"\").replace(\",\", \"\").lower().split(\" \")\n",
    "        contexte = mots[-K:]\n",
    "        s = proposer_mots(contexte, S)\n",
    "        for btn, sug in zip(suggestions, s):\n",
    "            btn.description = sug\n",
    "    except:\n",
    "        for btn in suggestions:\n",
    "            btn.description = \"\"\n",
    "t.observe(on_change)\n",
    "\n",
    "def accepter_suggestion(x):\n",
    "    t.value += \" \" + x.description\n",
    "\n",
    "display(t)\n",
    "for s in suggestions:\n",
    "    s.on_click(accepter_suggestion)\n",
    "    display(s)\n",
    "\n"
   ]
  },
  {
   "cell_type": "code",
   "execution_count": null,
   "metadata": {},
   "outputs": [],
   "source": []
  }
 ],
 "metadata": {
  "kernelspec": {
   "display_name": "Python 3",
   "language": "python",
   "name": "python3"
  },
  "language_info": {
   "codemirror_mode": {
    "name": "ipython",
    "version": 3
   },
   "file_extension": ".py",
   "mimetype": "text/x-python",
   "name": "python",
   "nbconvert_exporter": "python",
   "pygments_lexer": "ipython3",
   "version": "3.7.8"
  }
 },
 "nbformat": 4,
 "nbformat_minor": 4
}
