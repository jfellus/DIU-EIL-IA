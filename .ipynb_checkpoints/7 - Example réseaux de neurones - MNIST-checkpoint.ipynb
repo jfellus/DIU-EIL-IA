{
 "cells": [
  {
   "cell_type": "markdown",
   "metadata": {
    "colab_type": "text",
    "id": "view-in-github"
   },
   "source": [
    "<a href=\"https://colab.research.google.com/gist/jfellus/0579e84431b8cac85071767dbe374ffd/mnist-example.ipynb\" target=\"_parent\"><img src=\"https://colab.research.google.com/assets/colab-badge.svg\" alt=\"Open In Colab\"/></a>"
   ]
  },
  {
   "cell_type": "markdown",
   "metadata": {
    "colab_type": "text",
    "id": "fvCPQjrZW3A8"
   },
   "source": [
    "\n",
    "\n"
   ]
  },
  {
   "cell_type": "markdown",
   "metadata": {
    "colab_type": "text",
    "id": "49j0pwyW0lsu"
   },
   "source": [
    "# Classification de chiffres manuscrits par réseaux de neurones (jeu de données MNIST)\n"
   ]
  },
  {
   "cell_type": "code",
   "execution_count": 1,
   "metadata": {
    "colab": {
     "base_uri": "https://localhost:8080/",
     "height": 326
    },
    "colab_type": "code",
    "id": "Vegy4lN1yjGx",
    "outputId": "ec20d411-133c-41df-9b71-d085c8ec2004"
   },
   "outputs": [],
   "source": [
    "! pip install torch scikit-learn==0.20.* skorch"
   ]
  },
  {
   "cell_type": "code",
   "execution_count": null,
   "metadata": {
    "colab": {},
    "colab_type": "code",
    "id": "cw6cXFBPynCB"
   },
   "outputs": [],
   "source": [
    "from sklearn.datasets import fetch_openml\n",
    "from sklearn.model_selection import train_test_split\n",
    "import numpy as np\n",
    "import matplotlib.pyplot as plt\n",
    "from skorch import NeuralNetClassifier\n",
    "import torch\n",
    "from torch import nn\n",
    "import torch.nn.functional as F\n",
    "from sklearn.metrics import accuracy_score\n",
    "%matplotlib inline"
   ]
  },
  {
   "cell_type": "code",
   "execution_count": null,
   "metadata": {
    "colab": {},
    "colab_type": "code",
    "id": "Da0VYbxp4uwt"
   },
   "outputs": [],
   "source": [
    "# Fonctions utilitaires\n",
    "def plot_example(X, y):\n",
    "    \"\"\"Plot the first 5 images and their labels in a row.\"\"\"\n",
    "    for i, (img, y) in enumerate(zip(X[:5].reshape(5, 28, 28), y[:5])):\n",
    "        plt.subplot(151 + i)\n",
    "        plt.imshow(img)\n",
    "        plt.xticks([])\n",
    "        plt.yticks([])\n",
    "        plt.title(y)"
   ]
  },
  {
   "cell_type": "markdown",
   "metadata": {
    "colab_type": "text",
    "id": "WDk8WCy41Aa9"
   },
   "source": [
    "## 1. On charge le jeu de données MNIST\n",
    "\n",
    "MNIST contient 70000 images de chiffres manuscrits en niveaux de gris de 28px*28px = 784 dimensions.\n",
    "\n",
    "Chaque image est associée au chiffre représenté entre $0$ et $9$.\n",
    "- 60000 couples pour l'entraînement\n",
    "- 10000 couples pour le test\n",
    "\n",
    "> **Objectif** : Apprendre à associer l'image $X$ d'un chiffre manuscrit au chiffre représenté $y = f(X)$ => **Classification multi-classes** (10 classes)\n",
    "\n",
    "![alt text](https://upload.wikimedia.org/wikipedia/commons/2/27/MnistExamples.png)"
   ]
  },
  {
   "cell_type": "code",
   "execution_count": 1,
   "metadata": {
    "colab": {
     "base_uri": "https://localhost:8080/",
     "height": 232
    },
    "colab_type": "code",
    "id": "a7oyMcxByu3e",
    "outputId": "26ea568f-aeb2-4b87-8e44-0e198f8d10d5"
   },
   "outputs": [
    {
     "ename": "NameError",
     "evalue": "ignored",
     "output_type": "error",
     "traceback": [
      "\u001b[0;31m---------------------------------------------------------------------------\u001b[0m",
      "\u001b[0;31mNameError\u001b[0m                                 Traceback (most recent call last)",
      "\u001b[0;32m<ipython-input-1-b862c2774b67>\u001b[0m in \u001b[0;36m<module>\u001b[0;34m()\u001b[0m\n\u001b[0;32m----> 1\u001b[0;31m \u001b[0mmnist\u001b[0m \u001b[0;34m=\u001b[0m \u001b[0mfetch_openml\u001b[0m\u001b[0;34m(\u001b[0m\u001b[0;34m'mnist_784'\u001b[0m\u001b[0;34m,\u001b[0m \u001b[0mcache\u001b[0m\u001b[0;34m=\u001b[0m\u001b[0;32mTrue\u001b[0m\u001b[0;34m)\u001b[0m\u001b[0;34m\u001b[0m\u001b[0;34m\u001b[0m\u001b[0m\n\u001b[0m\u001b[1;32m      2\u001b[0m \u001b[0mX\u001b[0m \u001b[0;34m=\u001b[0m \u001b[0mmnist\u001b[0m\u001b[0;34m.\u001b[0m\u001b[0mdata\u001b[0m\u001b[0;34m.\u001b[0m\u001b[0mastype\u001b[0m\u001b[0;34m(\u001b[0m\u001b[0;34m'float32'\u001b[0m\u001b[0;34m)\u001b[0m\u001b[0;34m\u001b[0m\u001b[0;34m\u001b[0m\u001b[0m\n\u001b[1;32m      3\u001b[0m \u001b[0my\u001b[0m \u001b[0;34m=\u001b[0m \u001b[0mmnist\u001b[0m\u001b[0;34m.\u001b[0m\u001b[0mtarget\u001b[0m\u001b[0;34m.\u001b[0m\u001b[0mastype\u001b[0m\u001b[0;34m(\u001b[0m\u001b[0;34m'int64'\u001b[0m\u001b[0;34m)\u001b[0m\u001b[0;34m\u001b[0m\u001b[0;34m\u001b[0m\u001b[0m\n\u001b[1;32m      4\u001b[0m \u001b[0;34m\u001b[0m\u001b[0m\n\u001b[1;32m      5\u001b[0m \u001b[0mX_train\u001b[0m \u001b[0;34m=\u001b[0m \u001b[0mX\u001b[0m\u001b[0;34m[\u001b[0m\u001b[0;34m:\u001b[0m\u001b[0;36m60000\u001b[0m\u001b[0;34m]\u001b[0m\u001b[0;34m\u001b[0m\u001b[0;34m\u001b[0m\u001b[0m\n",
      "\u001b[0;31mNameError\u001b[0m: name 'fetch_openml' is not defined"
     ]
    }
   ],
   "source": [
    "mnist = fetch_openml('mnist_784', cache=True)\n",
    "X = mnist.data.astype('float32')\n",
    "y = mnist.target.astype('int64')\n",
    "\n",
    "X_train = X[:60000]\n",
    "X_test = X[60000:]\n",
    "y_train = y[:60000]\n",
    "y_test = y[60000:]\n",
    "\n",
    "print(X_train.shape, y_train.shape)\n",
    "print(X_test.shape, y_test.shape)"
   ]
  },
  {
   "cell_type": "code",
   "execution_count": null,
   "metadata": {
    "colab": {
     "base_uri": "https://localhost:8080/",
     "height": 34
    },
    "colab_type": "code",
    "id": "8jWttqU4zcWJ",
    "outputId": "a0b11437-9498-452c-e61a-0eddc9213fda"
   },
   "outputs": [
    {
     "data": {
      "text/plain": [
       "(0.0, 1.0)"
      ]
     },
     "execution_count": 5,
     "metadata": {
      "tags": []
     },
     "output_type": "execute_result"
    }
   ],
   "source": [
    "# Preprocessing\n",
    "\n",
    "X /= 255.0\n",
    "X.min(), X.max()"
   ]
  },
  {
   "cell_type": "code",
   "execution_count": null,
   "metadata": {
    "colab": {
     "base_uri": "https://localhost:8080/",
     "height": 108
    },
    "colab_type": "code",
    "id": "dmtTnKcQ4qPQ",
    "outputId": "7738edc1-0c06-4432-9036-93248901c78f"
   },
   "outputs": [
    {
     "data": {
      "image/png": "[encoded data removed]",
      "text/plain": [
       "<Figure size 432x288 with 5 Axes>"
      ]
     },
     "metadata": {
      "tags": []
     },
     "output_type": "display_data"
    }
   ],
   "source": [
    "plot_example(X_train, y_train)"
   ]
  },
  {
   "cell_type": "markdown",
   "metadata": {
    "colab_type": "text",
    "id": "C4fFBJJl5Dnw"
   },
   "source": [
    "# Exemple 1 : Regression logistique (classificateur linéaire)\n"
   ]
  },
  {
   "cell_type": "markdown",
   "metadata": {
    "colab_type": "text",
    "id": "7VzEP7z4WmNZ"
   },
   "source": [
    "\n",
    "![](https://sebastianraschka.com/images/faq/logisticregr-neuralnet/schematic.png)\n",
    "\n",
    "![](https://sebastianraschka.com/images/faq/logisticregr-neuralnet/sigmoid.png)\n",
    "\n"
   ]
  },
  {
   "cell_type": "code",
   "execution_count": null,
   "metadata": {
    "colab": {},
    "colab_type": "code",
    "id": "GlrbJWOS46YK"
   },
   "outputs": [],
   "source": [
    "class LogisticRegression(nn.Module):\n",
    "  def __init__(self):\n",
    "    super(LogisticRegression, self).__init__()\n",
    "    self.layers = nn.Sequential(\n",
    "        nn.Linear(X.shape[1], 10)\n",
    "    )\n",
    "\n",
    "  def forward(self, X):\n",
    "    return F.softmax(self.layers(X), dim=-1)"
   ]
  },
  {
   "cell_type": "code",
   "execution_count": null,
   "metadata": {
    "colab": {
     "base_uri": "https://localhost:8080/",
     "height": 391
    },
    "colab_type": "code",
    "id": "AXXczuKk5twB",
    "outputId": "5da7dda2-8921-480c-d9b1-59da2beea558"
   },
   "outputs": [
    {
     "name": "stdout",
     "output_type": "stream",
     "text": [
      "  epoch    train_loss    valid_acc    valid_loss     dur\n",
      "-------  ------------  -----------  ------------  ------\n",
      "      1        \u001b[36m0.7694\u001b[0m       \u001b[32m0.8773\u001b[0m        \u001b[35m0.4899\u001b[0m  1.2644\n",
      "      2        \u001b[36m0.4570\u001b[0m       \u001b[32m0.8911\u001b[0m        \u001b[35m0.4101\u001b[0m  1.0234\n",
      "      3        \u001b[36m0.4045\u001b[0m       \u001b[32m0.8970\u001b[0m        \u001b[35m0.3770\u001b[0m  1.0139\n",
      "      4        \u001b[36m0.3780\u001b[0m       \u001b[32m0.9025\u001b[0m        \u001b[35m0.3581\u001b[0m  0.9621\n",
      "      5        \u001b[36m0.3613\u001b[0m       \u001b[32m0.9057\u001b[0m        \u001b[35m0.3454\u001b[0m  1.0531\n",
      "      6        \u001b[36m0.3493\u001b[0m       \u001b[32m0.9073\u001b[0m        \u001b[35m0.3363\u001b[0m  0.9735\n",
      "      7        \u001b[36m0.3403\u001b[0m       \u001b[32m0.9097\u001b[0m        \u001b[35m0.3293\u001b[0m  0.9538\n",
      "      8        \u001b[36m0.3331\u001b[0m       \u001b[32m0.9110\u001b[0m        \u001b[35m0.3237\u001b[0m  0.9801\n",
      "      9        \u001b[36m0.3272\u001b[0m       \u001b[32m0.9120\u001b[0m        \u001b[35m0.3191\u001b[0m  0.9593\n",
      "     10        \u001b[36m0.3222\u001b[0m       \u001b[32m0.9130\u001b[0m        \u001b[35m0.3152\u001b[0m  0.9740\n",
      "     11        \u001b[36m0.3180\u001b[0m       \u001b[32m0.9140\u001b[0m        \u001b[35m0.3119\u001b[0m  1.0597\n",
      "     12        \u001b[36m0.3143\u001b[0m       \u001b[32m0.9148\u001b[0m        \u001b[35m0.3091\u001b[0m  1.0133\n",
      "     13        \u001b[36m0.3110\u001b[0m       \u001b[32m0.9155\u001b[0m        \u001b[35m0.3066\u001b[0m  0.9699\n",
      "     14        \u001b[36m0.3081\u001b[0m       \u001b[32m0.9157\u001b[0m        \u001b[35m0.3044\u001b[0m  0.9839\n",
      "     15        \u001b[36m0.3055\u001b[0m       \u001b[32m0.9160\u001b[0m        \u001b[35m0.3024\u001b[0m  0.9939\n",
      "     16        \u001b[36m0.3032\u001b[0m       \u001b[32m0.9164\u001b[0m        \u001b[35m0.3006\u001b[0m  1.0635\n",
      "     17        \u001b[36m0.3010\u001b[0m       \u001b[32m0.9170\u001b[0m        \u001b[35m0.2990\u001b[0m  1.0268\n",
      "     18        \u001b[36m0.2990\u001b[0m       \u001b[32m0.9175\u001b[0m        \u001b[35m0.2976\u001b[0m  1.0752\n",
      "     19        \u001b[36m0.2972\u001b[0m       0.9175        \u001b[35m0.2962\u001b[0m  0.9749\n",
      "     20        \u001b[36m0.2955\u001b[0m       \u001b[32m0.9180\u001b[0m        \u001b[35m0.2950\u001b[0m  1.0724\n"
     ]
    }
   ],
   "source": [
    "# TRAIN\n",
    "\n",
    "net = NeuralNetClassifier(\n",
    "    LogisticRegression,\n",
    "    criterion = nn.NLLLoss,\n",
    "    optimizer=torch.optim.SGD,\n",
    "    batch_size=128,\n",
    "    max_epochs = 20,\n",
    "    lr = 0.05,\n",
    "    device = 'cuda' if torch.cuda.is_available() else 'cpu'\n",
    ")\n",
    "\n",
    "net.fit(X_train, y_train);\n"
   ]
  },
  {
   "cell_type": "code",
   "execution_count": null,
   "metadata": {
    "colab": {
     "base_uri": "https://localhost:8080/",
     "height": 142
    },
    "colab_type": "code",
    "id": "lCJrrn789Q2p",
    "outputId": "1e8dd61a-ff44-4152-9b20-cb682a68f54a"
   },
   "outputs": [
    {
     "name": "stdout",
     "output_type": "stream",
     "text": [
      "Accuracy = 92.04%\n",
      "Quelques mauvaises predictions\n"
     ]
    },
    {
     "data": {
      "image/png": "[encoded data removed]",
      "text/plain": [
       "<Figure size 432x288 with 5 Axes>"
      ]
     },
     "metadata": {
      "tags": []
     },
     "output_type": "display_data"
    }
   ],
   "source": [
    "# TEST\n",
    "\n",
    "y_pred = net.predict(X_test)\n",
    "\n",
    "acc = accuracy_score(y_test, y_pred)\n",
    "print(f\"Accuracy = {acc*100}%\")\n",
    "\n",
    "print(\"Quelques mauvaises predictions\")\n",
    "error_mask = y_pred != y_test\n",
    "plot_example(X_test[error_mask], y_pred[error_mask])\n"
   ]
  },
  {
   "cell_type": "code",
   "execution_count": null,
   "metadata": {
    "colab": {
     "base_uri": "https://localhost:8080/",
     "height": 125
    },
    "colab_type": "code",
    "id": "FjakcWdq94H3",
    "outputId": "815fc507-1182-4e07-8424-2d6b2a956a17"
   },
   "outputs": [
    {
     "name": "stdout",
     "output_type": "stream",
     "text": [
      "Quelques bonnes predictions\n"
     ]
    },
    {
     "data": {
      "image/png": "[encoded data removed]",
      "text/plain": [
       "<Figure size 432x288 with 5 Axes>"
      ]
     },
     "metadata": {
      "tags": []
     },
     "output_type": "display_data"
    }
   ],
   "source": [
    "print(\"Quelques bonnes predictions\")\n",
    "good_mask = y_pred == y_test\n",
    "plot_example(X_test[good_mask], y_pred[good_mask])"
   ]
  },
  {
   "cell_type": "markdown",
   "metadata": {
    "colab_type": "text",
    "id": "KLJGiGwuWj-9"
   },
   "source": []
  },
  {
   "cell_type": "markdown",
   "metadata": {
    "colab_type": "text",
    "id": "7iDM_hJbG1ZH"
   },
   "source": [
    "# Exemple 2 : Perceptron Multicouches (MLP)\n"
   ]
  },
  {
   "cell_type": "markdown",
   "metadata": {
    "colab_type": "text",
    "id": "RlidxXPZWuid"
   },
   "source": [
    "\n",
    "![](https://www.researchgate.net/profile/Junita_Mohamad-Saleh/publication/257071174/figure/fig3/AS:297526545666050@1447947264431/A-schematic-diagram-of-a-Multi-Layer-Perceptron-MLP-neural-network.png)"
   ]
  },
  {
   "cell_type": "code",
   "execution_count": null,
   "metadata": {
    "colab": {},
    "colab_type": "code",
    "id": "N2-Ycx3MG6Pc"
   },
   "outputs": [],
   "source": [
    "class MLP(nn.Module):\n",
    "  def __init__(self):\n",
    "    super(MLP, self).__init__()\n",
    "    hidden_units = 784//8\n",
    "    self.layers = nn.Sequential(\n",
    "        nn.Linear(X.shape[1], hidden_units),\n",
    "        nn.ReLU(),\n",
    "        nn.Dropout(0.5),\n",
    "        nn.Linear(hidden_units, 10)\n",
    "    )\n",
    "\n",
    "  def forward(self, X):\n",
    "    return F.softmax(self.layers(X), dim=-1)"
   ]
  },
  {
   "cell_type": "code",
   "execution_count": null,
   "metadata": {
    "colab": {},
    "colab_type": "code",
    "id": "9tWi7DBUIqge"
   },
   "outputs": [],
   "source": [
    "# TRAIN\n",
    "\n",
    "net = NeuralNetClassifier(\n",
    "    MLP,\n",
    "    criterion = nn.NLLLoss,\n",
    "    optimizer=torch.optim.SGD,\n",
    "    batch_size=128,\n",
    "    max_epochs = 20,\n",
    "    lr = 0.05,\n",
    "    device = 'cuda' if torch.cuda.is_available() else 'cpu'\n",
    ")\n",
    "\n",
    "net.fit(X_train, y_train);\n"
   ]
  },
  {
   "cell_type": "code",
   "execution_count": null,
   "metadata": {
    "colab": {},
    "colab_type": "code",
    "id": "Zm4i4eqeJUQf"
   },
   "outputs": [],
   "source": [
    "# TEST\n",
    "\n",
    "y_pred = net.predict(X_test)\n",
    "\n",
    "acc = accuracy_score(y_test, y_pred)\n",
    "print(f\"Accuracy = {acc*100}%\")\n"
   ]
  },
  {
   "cell_type": "markdown",
   "metadata": {
    "colab_type": "text",
    "id": "9Ps8bBH7JY-E"
   },
   "source": [
    "# Exemple 3 : Réseaux convolutifs (CNN)\n",
    "\n"
   ]
  },
  {
   "cell_type": "markdown",
   "metadata": {
    "colab_type": "text",
    "id": "yEEKhgE4Wy2W"
   },
   "source": [
    "![](https://miro.medium.com/max/1644/1*uAeANQIOQPqWZnnuH-VEyw.jpeg)\n",
    "\n",
    "![](https://miro.medium.com/max/526/1*GcI7G-JLAQiEoCON7xFbhg.gif)\n",
    "\n",
    "![](https://miro.medium.com/max/395/1*1VJDP6qDY9-ExTuQVEOlVg.gif)\n",
    "\n",
    "https://towardsdatascience.com/a-comprehensive-guide-to-convolutional-neural-networks-the-eli5-way-3bd2b1164a53"
   ]
  },
  {
   "cell_type": "code",
   "execution_count": null,
   "metadata": {
    "colab": {},
    "colab_type": "code",
    "id": "lGRV73F2Ka-1"
   },
   "outputs": [],
   "source": [
    "class CNN(nn.Module):\n",
    "  def __init__(self):\n",
    "    super(CNN, self).__init__()\n",
    "    self.conv_layers = nn.Sequential(\n",
    "        nn.Conv2d(1, 32, kernel_size=3),\n",
    "        nn.MaxPool2d(2),\n",
    "        nn.ReLU(),\n",
    "        nn.Conv2d(32, 64, kernel_size=3),\n",
    "        nn.Dropout2d(0.5),\n",
    "        nn.MaxPool2d(2),\n",
    "        nn.ReLU(),\n",
    "    )\n",
    "    self.fully_connected_layers = nn.Sequential(\n",
    "        nn.Linear(64*5*5, 100),\n",
    "        nn.Dropout(0.5),\n",
    "        nn.ReLU(),\n",
    "        nn.Linear(100, 10)\n",
    "    )\n",
    "\n",
    "  def forward(self, X):\n",
    "    X = X.view(-1, 1, 28, 28) # Format as conv filter input\n",
    "    X = self.conv_layers(X)\n",
    "    X = X.view(-1, X.size(1) * X.size(2) * X.size(3)) # Flatten along channel * height * width\n",
    "    X = self.fully_connected_layers(X)\n",
    "    return F.softmax(X, dim=-1)"
   ]
  },
  {
   "cell_type": "code",
   "execution_count": null,
   "metadata": {
    "colab": {},
    "colab_type": "code",
    "id": "eBq2UrluMcuj"
   },
   "outputs": [],
   "source": [
    "# TRAIN\n",
    "\n",
    "net = NeuralNetClassifier(\n",
    "    CNN,\n",
    "    criterion = nn.NLLLoss,\n",
    "    optimizer=torch.optim.SGD,\n",
    "    batch_size=128,\n",
    "    max_epochs = 20,\n",
    "    lr = 0.05,\n",
    "    device = 'cuda' if torch.cuda.is_available() else 'cpu'\n",
    ")\n",
    "\n",
    "net.fit(X_train, y_train);\n"
   ]
  },
  {
   "cell_type": "code",
   "execution_count": null,
   "metadata": {
    "colab": {},
    "colab_type": "code",
    "id": "P7ugz_c2MgFu"
   },
   "outputs": [],
   "source": [
    "# TEST\n",
    "\n",
    "y_pred = net.predict(X_test)\n",
    "\n",
    "acc = accuracy_score(y_test, y_pred)\n",
    "print(f\"Accuracy = {acc*100}%\")\n"
   ]
  },
  {
   "cell_type": "code",
   "execution_count": null,
   "metadata": {
    "colab": {},
    "colab_type": "code",
    "id": "GfRMrh-ZNmHe"
   },
   "outputs": [],
   "source": [
    "print(f'{accuracy_score(y_test[error_mask], y_pred[error_mask])*100:{.3}}% des exemples mal classés par le modèle linéaire sont bien classés par le CNN')"
   ]
  },
  {
   "cell_type": "markdown",
   "metadata": {
    "colab_type": "text",
    "id": "vb88Zf40fGir"
   },
   "source": [
    "# Detection d'intrusion : Dataset NSL-KDD\n",
    "\n",
    "* https://raw.githubusercontent.com/defcom17/NSL_KDD/master/KDDTrain%2B.txt\n",
    "* https://raw.githubusercontent.com/defcom17/NSL_KDD/master/KDDTest%2B.txt"
   ]
  },
  {
   "cell_type": "code",
   "execution_count": null,
   "metadata": {
    "colab": {},
    "colab_type": "code",
    "id": "d-mrP_ewf3HB"
   },
   "outputs": [],
   "source": [
    "import pandas as pd\n",
    "import requests\n",
    "from io import StringIO\n",
    "from sklearn.preprocessing import MinMaxScaler\n",
    "\n",
    "fields = ['duration', 'protocol_type', 'service', 'flag', 'src_bytes', 'dst_bytes', 'land', 'wrong_fragment', 'urgent', 'hot', 'num_failed_logins', 'logged_in', 'num_compromised', 'root_shell', 'su_attempted', 'num_root', 'num_file_creations', 'num_shells', 'num_access_files', 'num_outbound_cmds', 'is_host_login', 'is_guest_login', 'count', 'srv_count', 'serror_rate', 'srv_serror_rate', 'rerror_rate', 'srv_rerror_rate', 'same_srv_rate', 'diff_srv_rate', 'srv_diff_host_rate', 'dst_host_count', 'dst_host_srv_count', 'dst_host_same_srv_rate', 'dst_host_diff_srv_rate', 'dst_host_same_src_port_rate', 'dst_host_srv_diff_host_rate', 'dst_host_serror_rate', 'dst_host_srv_serror_rate', 'dst_host_rerror_rate', 'dst_host_srv_rerror_rate', 'class', 'difficulty']\n",
    "nominal_cols = ['protocol_type', 'service', 'flag', 'class']\n",
    "\n",
    "kddtrain = requests.get('https://raw.githubusercontent.com/defcom17/NSL_KDD/master/KDDTrain%2B.txt').text\n",
    "Xtrain = pd.read_csv(StringIO(kddtrain), header=None, names=fields)\n",
    "\n",
    "kddtest = requests.get('https://raw.githubusercontent.com/defcom17/NSL_KDD/master/KDDTest%2B.txt').text\n",
    "Xtest = pd.read_csv(StringIO(kddtest), header=None, names=fields)\n",
    "\n",
    "\n",
    "print(Xtrain.shape, Xtest.shape)\n",
    "\n",
    "Xtrain.head()\n",
    "\n",
    "\n"
   ]
  },
  {
   "cell_type": "code",
   "execution_count": null,
   "metadata": {
    "colab": {},
    "colab_type": "code",
    "id": "O5wzPmWCpFJ2"
   },
   "outputs": [],
   "source": [
    "# One-hot encoding\n",
    "X = pd.concat([Xtrain, Xtest], ignore_index=True)\n",
    "X = pd.get_dummies(X, nominal_cols)\n",
    "dim = X.columns.get_loc(\"class_apache2\")\n",
    "normal = X.columns.get_loc(\"class_normal\")\n",
    "\n",
    "# MinMax scaling\n",
    "X = X.to_numpy()\n",
    "X = MinMaxScaler().fit_transform(X)\n",
    "\n",
    "# Train/Test split\n",
    "X_train = X[:Xtrain.shape[0],:dim].astype('float32')\n",
    "y_train = X[:Xtrain.shape[0],normal].astype('float32')\n",
    "X_test = X[Xtrain.shape[0]:,:dim].astype('float32')\n",
    "y_test = X[Xtrain.shape[0]:,normal].astype('float32')\n",
    "\n",
    "print(X_train.shape, y_train.shape)\n",
    "print(X_test.shape, y_test.shape)\n",
    "print(X_train.dtype, y_train.dtype)\n"
   ]
  },
  {
   "cell_type": "code",
   "execution_count": null,
   "metadata": {
    "colab": {},
    "colab_type": "code",
    "id": "KfHeuQ30rR09"
   },
   "outputs": [],
   "source": [
    "# TRAIN\n",
    "\n",
    "class MLP_NSLKDD(nn.Module):\n",
    "  def __init__(self):\n",
    "    super(MLP_NSLKDD, self).__init__()\n",
    "    hidden_units = 50\n",
    "    self.layers = nn.Sequential(\n",
    "        nn.Linear(X_train.shape[1], hidden_units),\n",
    "        nn.ReLU(),\n",
    "        nn.Dropout(0.5),\n",
    "        nn.Linear(hidden_units, 1)\n",
    "    )\n",
    "\n",
    "  def forward(self, X):\n",
    "    return self.layers(X)\n",
    "\n",
    "\n",
    "from skorch import NeuralNetBinaryClassifier\n",
    "from skorch.callbacks import Callback\n",
    "\n",
    "ACC = []\n",
    "class CB(Callback):\n",
    "  def on_epoch_end(self, net, **kwargs):\n",
    "     y_pred = net.predict(X_test)\n",
    "     acc = accuracy_score(y_test, y_pred)\n",
    "     ACC.append(acc)\n",
    "     print(acc)\n",
    "\n",
    "\n",
    "net = NeuralNetBinaryClassifier(\n",
    "    MLP_NSLKDD,\n",
    "    criterion = nn.BCEWithLogitsLoss,\n",
    "    optimizer=torch.optim.SGD,\n",
    "    batch_size=256,\n",
    "    max_epochs = 50,\n",
    "    lr = 0.05,\n",
    "    device = 'cuda' if torch.cuda.is_available() else 'cpu',\n",
    "    callbacks=[CB()],\n",
    "    iterator_train__shuffle=True\n",
    ")\n",
    "\n",
    "net.fit(X_train, y_train);\n"
   ]
  },
  {
   "cell_type": "code",
   "execution_count": null,
   "metadata": {
    "colab": {},
    "colab_type": "code",
    "id": "WH7ffT07uvhj"
   },
   "outputs": [],
   "source": [
    "# TEST\n",
    "\n",
    "y_pred = net.predict(X_test)\n",
    "\n",
    "acc = accuracy_score(y_test, y_pred)\n",
    "print(f\"Accuracy = {acc*100}%\")"
   ]
  }
 ],
 "metadata": {
  "accelerator": "GPU",
  "colab": {
   "authorship_tag": "ABX9TyOkkJLZ0j1kJ29yhl+XxNjf",
   "collapsed_sections": [],
   "include_colab_link": true,
   "name": "MNIST-example.ipynb",
   "provenance": []
  },
  "kernelspec": {
   "display_name": "Python 3",
   "language": "python",
   "name": "python3"
  },
  "language_info": {
   "codemirror_mode": {
    "name": "ipython",
    "version": 3
   },
   "file_extension": ".py",
   "mimetype": "text/x-python",
   "name": "python",
   "nbconvert_exporter": "python",
   "pygments_lexer": "ipython3",
   "version": "3.7.8"
  }
 },
 "nbformat": 4,
 "nbformat_minor": 4
}
