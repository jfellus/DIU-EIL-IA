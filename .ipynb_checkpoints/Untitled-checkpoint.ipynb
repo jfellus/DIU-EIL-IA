{
 "cells": [
  {
   "cell_type": "code",
   "execution_count": null,
   "metadata": {},
   "outputs": [],
   "source": []
  },
  {
   "cell_type": "code",
   "execution_count": 15,
   "metadata": {
    "jupyter": {
     "source_hidden": true
    }
   },
   "outputs": [],
   "source": [
    "import requests, re\n",
    "\n",
    "with open('url.txt', 'w') as g:\n",
    "    with open(\"x.txt\", \"r\") as f:\n",
    "        for url in f:\n",
    "            r = requests.get(url.strip())\n",
    "            t = r.text.replace(\"\\n\", '')\n",
    "            x = re.findall(r'<div class=\"poemes-auteurs\">\\t\\t<ul><li><a href=\"[^>]+', t)\n",
    "            x = [x.split('href=\"')[1].replace('\"', '') for x in x]\n",
    "            g.write(\"\\n\".join(x))\n",
    "\n"
   ]
  },
  {
   "cell_type": "code",
   "execution_count": 26,
   "metadata": {},
   "outputs": [
    {
     "name": "stdout",
     "output_type": "stream",
     "text": [
      "         À Brunette ,  le chien de Sophie . Objet si cher à ma Sophie ,  Toi que nourrit sa belle main ,  Toi qui passes toute ta vie Entre ses genoux et son sein  ;  Que ton sort ,  heureuse Brunette ,  Hélas  !  est différent du mien  !  En amant elle traite un chien ,  En chien ,  c'est l'amant qu'elle traite . Et pourtant ,  cette préférence Qui peut te l'obtenir sur moi  ?  Ai-je moins de persévérance ,  Moins de fidélité que toi  ?  De mes fers loin que je m'échappe ,  Enchaîné sans aucuns liens ,  Toujours battu ,  toujours je viens Baiser cette main qui me frappe . Le pur sentiment qui m'enflamme Vaut ton instinct ,  s'il ne vaut mieux  ;  Et le feu qui brûle en mon âme Vaut le feu qui brille en tes yeux  :  Mais près de ma beauté suprême Je suis trop coupable en effet ,  Quand je hais tout ce qu'elle hait ,  De n'aimer pas tout ce qu'elle aime . Dans le dépit qui me transporte ,  Souvent je ne connais plus rien .  Le grelot que Brunette porte Serait mieux à mon cou qu'au sien .  Soins ,  constance ,  pleurs ,  sacrifice ,  Je vous crois perdus sans retour  :  Je n'espère plus de l'amour  ;  Mais j'espère encor du caprice . Écrit en 1792 . \t\t \n",
      "\n",
      "\n",
      "\n",
      "\n",
      "         À M .  P .  D .  S .  R . Premier commis au département de l'intérieur ,  En lui envoyant un exemplaire de La Pucelle de Voltaire . Accueillez l'immortel enfant D'une muse un peu libertine  ;  Un philosophe qui badine Nous instruit en nous amusant . Par une hypocrite cabale L'honneur du beau sexe outragé ,  Sous le fer d'un héros vengé ,  N'est-ce pas là de la morale  ? Le père des inquisiteurs Prêche aux damnés la tolérance  :  Ah  !  que n'a-t-il pour auditeurs Tous nos fanatiques de France  ! Et nos porteurs de capuchon ,  Gens aussi vains qu'insatiables ,  Que ne sont-ils à tous les diables ,  Avec le père Gris-Bourdon  ! Peut-être plus d'une peinture Blesserait vos yeux délicats ,  Si Vénus était sans appas Pour être parfois sans ceinture . Un grison trouve à ses discours Jeanne et les Amours favorables  ;  Que de belles ont tous les jours Des caprices moins excusables  ! Du génie et de l'enjouement ,  La Pucelle pour héroïne  ;  Tous ces objets ,  je l'imagine ,  Sont de votre département . Écrit en 1787 . \t\t \n",
      "\n",
      "\n",
      "\n",
      "\n",
      "         Fable III ,  Livre I . D'Actéon ,  mes amis ,  vous savez l'aventure  ;  Vous savez qu'un peu cher il paya des transports Où la seule Diane a pu voir une injure .  Aux mots qu'en son courroux cette prude murmure ,  Sans trop cacher pourtant ses pudiques trésors ,  Notre indiscret ,  d'un cerf dix cors À tout à coup pris l'encolure .  Un pied fourchu s'ajuste à sa jambe ,  à son bras  ;  Ses cheveux en rameaux se dressent sur sa tête  ;  Jusqu'au bout de son nez qui s'allonge ,  un poil rat Court habiller notre homme en bête .  Peu content de voir sur son front Ce qui paraît moins sur le nôtre ,  Le nouveau quadrupède à décamper fut prompt .  Mais ,  hélas  !  un malheur vient-il jamais sans l'autre  ?  Ses bassets ,  un peu trop ardents ,  Et ,  comme nous ,  enclins à juger sur la mine ,  Le suivent en jappant dans la forêt voisine ,  Où ,  tout en pleurs ,  bientôt il périt sous leurs dents .  Aucun d'eux cependant n'était ingrat ou traître ,  Aucun du moins ne croyait l'être ,  Lorsque dans son sang même ils se désaltéraient  ;  Ce n'était pas leur pauvre maître ,  C'était un cerf qu'ils déchiraient .  Vous qui d'écrire avez l'audace ou la faiblesse ,  Si haut que soit le rang où vous plaça le sort ,  Au destin d'Actéon résignez-vous d'abord ,  Et surtout oubliez vos titres de noblesse .  Bien qu'au pied du Parnasse il soit plus d'un flatteur La critique et sa meute y fixent leur retraite  :  Quand vous vous donnez pour auteur ,  En auteur souffrez qu'on vous traite . \t\t \n",
      "\n",
      "\n",
      "\n",
      "\n",
      "         Supposant dans un seul objet Tout ce que j'exigeais pour plaire ,  J'adorais un être parfait ,  Et le croyais imaginaire . L'Amour ,  quand il m'offrit tes traits ,  Voulut me prouver ma folie  :  Mon fantôme et ses vains attraits Seraient tout au plus ta copie . Daphné ,  j'ai bientôt reconnu Que l'impossible pouvait être  :  Reprends ici ce qui t'est dû  ;  Je te chantais sans te connaître . Écrit en 1789 . \t\t \n",
      "\n",
      "\n",
      "\n",
      "\n",
      "         xxEn leur envoyant la cantate intitulée La Tempête ,  qu'elles ont mise en musique . Souvent cette trame grossière Qu'ourdit la main du tisserand Se transforme en tapis brillant Sous les jolis doigts de Glycère . Le chanvre obscur a disparu ,  Recouvert par l'or et la soie  ;  Ce n'est plus qu'un brillant tissu Où l'art triomphant se déploie . Le plus mince des opéras Subira ces métamorphoses  :  J'ai disposé le canevas ,  Et sous vos doigts naîtront les roses . Écrit en 1788 . \t\t \n",
      "\n",
      "\n",
      "\n",
      "\n",
      "         Verts bosquets ,  paisible asile ,  Où tout sourit à mon cœur  ;  D'innocence et de candeur Séjour aimable et tranquille  ;  En vain je veux retracer Le bonheur qui vous habite  :  Est-ce l'instant d'y penser Que l'instant où je vous quitte  ? Hélas  !  quand les plaintes vaines Ont remplacé les désirs  ;  Quand ce qui fit mes plaisirs Désormais fera mes peines ,  Loin d'accuser de froideur Mon silence sur vos charmes ,  N'y voyez que ma douleur Et jugez-moi sur mes larmes . Echos de ce vert bocage ,  Vous n'entendrez plus ma voix  !  Sans moi ,  nymphes de ces bois ,  Vous danserez sous l'ombrage .  Ah  !  je le sens aux regrets Que ce penser a fait naître ,  Qui dut vous quitter jamais N'eût jamais dû vous connaître . Écrit en 1791 . \t\t \n",
      "\n",
      "\n",
      "\n",
      "\n",
      "         Qui avait laissé prendre le feu à ses habits . Ce feu ,  quels torts a-t-il donc faits À votre Laure ,  qui se fâche  ?  Plein de respect pour ses attraits ,  Il n'en veut qu'à ce qui les cache . De jamais le lui reprocher ,  Pour moi ,  je me ferais scrupule .  Qui craint que le feu ne le brûle Ne doit pas trop s'en approcher . Joigne les effets aux menaces  ;  Tant d'imprudence est à punir  :  À l'étourdie ,  à l'avenir ,  Ne laissez que l'habit des Grâces . Cette sage sévérité En nous trouvera des apôtres .  Refusez-lui la charité ,  Ce sera la faire à bien d'autres . Écrit en 1790 . \t\t \n",
      "\n",
      "\n",
      "\n",
      "\n",
      "         xxAprès avoir lu ses jolis vers . En vérité ,  je suis jaloux De ces vers où l'amour respire  :  Le peindre aussi bien qu'on l'inspire  !  Cela ne fut donné qu'à vous . Moi qui voudrais savoir vous plaire ,  Et qui ne sais que vous chérir ,  J'ai résolu ,  pour vous fléchir ,  De vous prendre pour secrétaire . Je suis sûr de me faire aimer ,  Si pour moi vous daignez écrire ,  Si votre esprit daigne exprimer Tout ce que mon cœur veut vous dire . C'est aussi pour changer d'emploi Qu'au mien de grand cœur je renonce  :  Ecrivez la lettre pour moi ,  Pour vous je ferai la réponse . Écrit en 1793 . \t\t \n",
      "\n",
      "\n",
      "\n",
      "\n",
      "         Je lis et cite tour à tour Ce recueil qui jamais ne lasse ,  Ces vers écrits par une Grâce Avec les plumes de l'Amour . De vos amis ,  moi qui vous aime ,  Je n'ai ni l'esprit ni les yeux  :  Je ne vois en vous que vous-même ,  Et vous m'en plaisez beaucoup mieux . Brillante de votre lumière ,  Belle de vos propres attraits ,  Vous ne me retracez jamais Ni La Suze ni Deshoulière . La voix de leurs admirateurs Déjà vous place à côté d'elles  ;  Vous aurez des imitateurs ,  Mais vous n'eûtes pas de modèles . Écrit en 1795 . \t\t \n",
      "\n",
      "\n",
      "\n",
      "\n"
     ]
    },
    {
     "ename": "KeyboardInterrupt",
     "evalue": "",
     "output_type": "error",
     "traceback": [
      "\u001b[0;31m---------------------------------------------------------------------------\u001b[0m",
      "\u001b[0;31mKeyboardInterrupt\u001b[0m                         Traceback (most recent call last)",
      "\u001b[0;32m<ipython-input-26-3a829d473a7f>\u001b[0m in \u001b[0;36m<module>\u001b[0;34m\u001b[0m\n\u001b[1;32m      1\u001b[0m \u001b[0;32mwith\u001b[0m \u001b[0mopen\u001b[0m\u001b[0;34m(\u001b[0m\u001b[0;34m'url.txt'\u001b[0m\u001b[0;34m,\u001b[0m \u001b[0;34m'r'\u001b[0m\u001b[0;34m)\u001b[0m \u001b[0;32mas\u001b[0m \u001b[0mf\u001b[0m\u001b[0;34m:\u001b[0m\u001b[0;34m\u001b[0m\u001b[0;34m\u001b[0m\u001b[0m\n\u001b[1;32m      2\u001b[0m     \u001b[0;32mfor\u001b[0m \u001b[0murl\u001b[0m \u001b[0;32min\u001b[0m \u001b[0mf\u001b[0m\u001b[0;34m:\u001b[0m\u001b[0;34m\u001b[0m\u001b[0;34m\u001b[0m\u001b[0m\n\u001b[0;32m----> 3\u001b[0;31m         \u001b[0mt\u001b[0m \u001b[0;34m=\u001b[0m \u001b[0mrequests\u001b[0m\u001b[0;34m.\u001b[0m\u001b[0mget\u001b[0m\u001b[0;34m(\u001b[0m\u001b[0murl\u001b[0m\u001b[0;34m.\u001b[0m\u001b[0mstrip\u001b[0m\u001b[0;34m(\u001b[0m\u001b[0;34m)\u001b[0m\u001b[0;34m)\u001b[0m\u001b[0;34m.\u001b[0m\u001b[0mtext\u001b[0m\u001b[0;34m.\u001b[0m\u001b[0mreplace\u001b[0m\u001b[0;34m(\u001b[0m\u001b[0;34m\"\\n\"\u001b[0m\u001b[0;34m,\u001b[0m \u001b[0;34m''\u001b[0m\u001b[0;34m)\u001b[0m\u001b[0;34m\u001b[0m\u001b[0;34m\u001b[0m\u001b[0m\n\u001b[0m\u001b[1;32m      4\u001b[0m         \u001b[0mx\u001b[0m \u001b[0;34m=\u001b[0m \u001b[0mre\u001b[0m\u001b[0;34m.\u001b[0m\u001b[0mfindall\u001b[0m\u001b[0;34m(\u001b[0m\u001b[0;34mr'<div class=\"postpoetique\">.*</p>                <a href=\"https://www.poesie'\u001b[0m\u001b[0;34m,\u001b[0m \u001b[0mt\u001b[0m\u001b[0;34m)\u001b[0m\u001b[0;34m\u001b[0m\u001b[0;34m\u001b[0m\u001b[0m\n\u001b[1;32m      5\u001b[0m         \u001b[0mx\u001b[0m \u001b[0;34m=\u001b[0m \u001b[0mre\u001b[0m\u001b[0;34m.\u001b[0m\u001b[0msub\u001b[0m\u001b[0;34m(\u001b[0m\u001b[0;34mr'<[^<>]+>'\u001b[0m\u001b[0;34m,\u001b[0m \u001b[0;34m''\u001b[0m\u001b[0;34m,\u001b[0m \u001b[0mx\u001b[0m\u001b[0;34m[\u001b[0m\u001b[0;36m0\u001b[0m\u001b[0;34m]\u001b[0m\u001b[0;34m)\u001b[0m\u001b[0;34m.\u001b[0m\u001b[0msplit\u001b[0m\u001b[0;34m(\u001b[0m\u001b[0;34m\"<\"\u001b[0m\u001b[0;34m)\u001b[0m\u001b[0;34m[\u001b[0m\u001b[0;36m0\u001b[0m\u001b[0;34m]\u001b[0m\u001b[0;34m\u001b[0m\u001b[0;34m\u001b[0m\u001b[0m\n",
      "\u001b[0;32m/usr/lib/python3/dist-packages/requests/api.py\u001b[0m in \u001b[0;36mget\u001b[0;34m(url, params, **kwargs)\u001b[0m\n\u001b[1;32m     65\u001b[0m \u001b[0;34m\u001b[0m\u001b[0m\n\u001b[1;32m     66\u001b[0m     \u001b[0mkwargs\u001b[0m\u001b[0;34m.\u001b[0m\u001b[0msetdefault\u001b[0m\u001b[0;34m(\u001b[0m\u001b[0;34m'allow_redirects'\u001b[0m\u001b[0;34m,\u001b[0m \u001b[0;32mTrue\u001b[0m\u001b[0;34m)\u001b[0m\u001b[0;34m\u001b[0m\u001b[0;34m\u001b[0m\u001b[0m\n\u001b[0;32m---> 67\u001b[0;31m     \u001b[0;32mreturn\u001b[0m \u001b[0mrequest\u001b[0m\u001b[0;34m(\u001b[0m\u001b[0;34m'get'\u001b[0m\u001b[0;34m,\u001b[0m \u001b[0murl\u001b[0m\u001b[0;34m,\u001b[0m \u001b[0mparams\u001b[0m\u001b[0;34m=\u001b[0m\u001b[0mparams\u001b[0m\u001b[0;34m,\u001b[0m \u001b[0;34m**\u001b[0m\u001b[0mkwargs\u001b[0m\u001b[0;34m)\u001b[0m\u001b[0;34m\u001b[0m\u001b[0;34m\u001b[0m\u001b[0m\n\u001b[0m\u001b[1;32m     68\u001b[0m \u001b[0;34m\u001b[0m\u001b[0m\n\u001b[1;32m     69\u001b[0m \u001b[0;34m\u001b[0m\u001b[0m\n",
      "\u001b[0;32m/usr/lib/python3/dist-packages/requests/api.py\u001b[0m in \u001b[0;36mrequest\u001b[0;34m(method, url, **kwargs)\u001b[0m\n\u001b[1;32m     51\u001b[0m     \u001b[0;31m# cases, and look like a memory leak in others.\u001b[0m\u001b[0;34m\u001b[0m\u001b[0;34m\u001b[0m\u001b[0;34m\u001b[0m\u001b[0m\n\u001b[1;32m     52\u001b[0m     \u001b[0;32mwith\u001b[0m \u001b[0msessions\u001b[0m\u001b[0;34m.\u001b[0m\u001b[0mSession\u001b[0m\u001b[0;34m(\u001b[0m\u001b[0;34m)\u001b[0m \u001b[0;32mas\u001b[0m \u001b[0msession\u001b[0m\u001b[0;34m:\u001b[0m\u001b[0;34m\u001b[0m\u001b[0;34m\u001b[0m\u001b[0m\n\u001b[0;32m---> 53\u001b[0;31m         \u001b[0;32mreturn\u001b[0m \u001b[0msession\u001b[0m\u001b[0;34m.\u001b[0m\u001b[0mrequest\u001b[0m\u001b[0;34m(\u001b[0m\u001b[0mmethod\u001b[0m\u001b[0;34m=\u001b[0m\u001b[0mmethod\u001b[0m\u001b[0;34m,\u001b[0m \u001b[0murl\u001b[0m\u001b[0;34m=\u001b[0m\u001b[0murl\u001b[0m\u001b[0;34m,\u001b[0m \u001b[0;34m**\u001b[0m\u001b[0mkwargs\u001b[0m\u001b[0;34m)\u001b[0m\u001b[0;34m\u001b[0m\u001b[0;34m\u001b[0m\u001b[0m\n\u001b[0m\u001b[1;32m     54\u001b[0m \u001b[0;34m\u001b[0m\u001b[0m\n\u001b[1;32m     55\u001b[0m \u001b[0;34m\u001b[0m\u001b[0m\n",
      "\u001b[0;32m/usr/lib/python3/dist-packages/requests/sessions.py\u001b[0m in \u001b[0;36mrequest\u001b[0;34m(self, method, url, params, data, headers, cookies, files, auth, timeout, allow_redirects, proxies, hooks, stream, verify, cert, json)\u001b[0m\n\u001b[1;32m    478\u001b[0m         }\n\u001b[1;32m    479\u001b[0m         \u001b[0msend_kwargs\u001b[0m\u001b[0;34m.\u001b[0m\u001b[0mupdate\u001b[0m\u001b[0;34m(\u001b[0m\u001b[0msettings\u001b[0m\u001b[0;34m)\u001b[0m\u001b[0;34m\u001b[0m\u001b[0;34m\u001b[0m\u001b[0m\n\u001b[0;32m--> 480\u001b[0;31m         \u001b[0mresp\u001b[0m \u001b[0;34m=\u001b[0m \u001b[0mself\u001b[0m\u001b[0;34m.\u001b[0m\u001b[0msend\u001b[0m\u001b[0;34m(\u001b[0m\u001b[0mprep\u001b[0m\u001b[0;34m,\u001b[0m \u001b[0;34m**\u001b[0m\u001b[0msend_kwargs\u001b[0m\u001b[0;34m)\u001b[0m\u001b[0;34m\u001b[0m\u001b[0;34m\u001b[0m\u001b[0m\n\u001b[0m\u001b[1;32m    481\u001b[0m \u001b[0;34m\u001b[0m\u001b[0m\n\u001b[1;32m    482\u001b[0m         \u001b[0;32mreturn\u001b[0m \u001b[0mresp\u001b[0m\u001b[0;34m\u001b[0m\u001b[0;34m\u001b[0m\u001b[0m\n",
      "\u001b[0;32m/usr/lib/python3/dist-packages/requests/sessions.py\u001b[0m in \u001b[0;36msend\u001b[0;34m(self, request, **kwargs)\u001b[0m\n\u001b[1;32m    586\u001b[0m \u001b[0;34m\u001b[0m\u001b[0m\n\u001b[1;32m    587\u001b[0m         \u001b[0;31m# Send the request\u001b[0m\u001b[0;34m\u001b[0m\u001b[0;34m\u001b[0m\u001b[0;34m\u001b[0m\u001b[0m\n\u001b[0;32m--> 588\u001b[0;31m         \u001b[0mr\u001b[0m \u001b[0;34m=\u001b[0m \u001b[0madapter\u001b[0m\u001b[0;34m.\u001b[0m\u001b[0msend\u001b[0m\u001b[0;34m(\u001b[0m\u001b[0mrequest\u001b[0m\u001b[0;34m,\u001b[0m \u001b[0;34m**\u001b[0m\u001b[0mkwargs\u001b[0m\u001b[0;34m)\u001b[0m\u001b[0;34m\u001b[0m\u001b[0;34m\u001b[0m\u001b[0m\n\u001b[0m\u001b[1;32m    589\u001b[0m \u001b[0;34m\u001b[0m\u001b[0m\n\u001b[1;32m    590\u001b[0m         \u001b[0;31m# Total elapsed time of the request (approximately)\u001b[0m\u001b[0;34m\u001b[0m\u001b[0;34m\u001b[0m\u001b[0;34m\u001b[0m\u001b[0m\n",
      "\u001b[0;32m/usr/lib/python3/dist-packages/requests/adapters.py\u001b[0m in \u001b[0;36msend\u001b[0;34m(self, request, stream, timeout, verify, cert, proxies)\u001b[0m\n\u001b[1;32m    374\u001b[0m                     \u001b[0mdecode_content\u001b[0m\u001b[0;34m=\u001b[0m\u001b[0;32mFalse\u001b[0m\u001b[0;34m,\u001b[0m\u001b[0;34m\u001b[0m\u001b[0;34m\u001b[0m\u001b[0m\n\u001b[1;32m    375\u001b[0m                     \u001b[0mretries\u001b[0m\u001b[0;34m=\u001b[0m\u001b[0mself\u001b[0m\u001b[0;34m.\u001b[0m\u001b[0mmax_retries\u001b[0m\u001b[0;34m,\u001b[0m\u001b[0;34m\u001b[0m\u001b[0;34m\u001b[0m\u001b[0m\n\u001b[0;32m--> 376\u001b[0;31m                     \u001b[0mtimeout\u001b[0m\u001b[0;34m=\u001b[0m\u001b[0mtimeout\u001b[0m\u001b[0;34m\u001b[0m\u001b[0;34m\u001b[0m\u001b[0m\n\u001b[0m\u001b[1;32m    377\u001b[0m                 )\n\u001b[1;32m    378\u001b[0m \u001b[0;34m\u001b[0m\u001b[0m\n",
      "\u001b[0;32m/usr/lib/python3/dist-packages/urllib3/connectionpool.py\u001b[0m in \u001b[0;36murlopen\u001b[0;34m(self, method, url, body, headers, retries, redirect, assert_same_host, timeout, pool_timeout, release_conn, **response_kw)\u001b[0m\n\u001b[1;32m    558\u001b[0m             httplib_response = self._make_request(conn, method, url,\n\u001b[1;32m    559\u001b[0m                                                   \u001b[0mtimeout\u001b[0m\u001b[0;34m=\u001b[0m\u001b[0mtimeout_obj\u001b[0m\u001b[0;34m,\u001b[0m\u001b[0;34m\u001b[0m\u001b[0;34m\u001b[0m\u001b[0m\n\u001b[0;32m--> 560\u001b[0;31m                                                   body=body, headers=headers)\n\u001b[0m\u001b[1;32m    561\u001b[0m \u001b[0;34m\u001b[0m\u001b[0m\n\u001b[1;32m    562\u001b[0m             \u001b[0;31m# If we're going to release the connection in ``finally:``, then\u001b[0m\u001b[0;34m\u001b[0m\u001b[0;34m\u001b[0m\u001b[0;34m\u001b[0m\u001b[0m\n",
      "\u001b[0;32m/usr/lib/python3/dist-packages/urllib3/connectionpool.py\u001b[0m in \u001b[0;36m_make_request\u001b[0;34m(self, conn, method, url, timeout, **httplib_request_kw)\u001b[0m\n\u001b[1;32m    344\u001b[0m         \u001b[0;31m# Trigger any extra validation we need to do.\u001b[0m\u001b[0;34m\u001b[0m\u001b[0;34m\u001b[0m\u001b[0;34m\u001b[0m\u001b[0m\n\u001b[1;32m    345\u001b[0m         \u001b[0;32mtry\u001b[0m\u001b[0;34m:\u001b[0m\u001b[0;34m\u001b[0m\u001b[0;34m\u001b[0m\u001b[0m\n\u001b[0;32m--> 346\u001b[0;31m             \u001b[0mself\u001b[0m\u001b[0;34m.\u001b[0m\u001b[0m_validate_conn\u001b[0m\u001b[0;34m(\u001b[0m\u001b[0mconn\u001b[0m\u001b[0;34m)\u001b[0m\u001b[0;34m\u001b[0m\u001b[0;34m\u001b[0m\u001b[0m\n\u001b[0m\u001b[1;32m    347\u001b[0m         \u001b[0;32mexcept\u001b[0m \u001b[0;34m(\u001b[0m\u001b[0mSocketTimeout\u001b[0m\u001b[0;34m,\u001b[0m \u001b[0mBaseSSLError\u001b[0m\u001b[0;34m)\u001b[0m \u001b[0;32mas\u001b[0m \u001b[0me\u001b[0m\u001b[0;34m:\u001b[0m\u001b[0;34m\u001b[0m\u001b[0;34m\u001b[0m\u001b[0m\n\u001b[1;32m    348\u001b[0m             \u001b[0;31m# Py2 raises this as a BaseSSLError, Py3 raises it as socket timeout.\u001b[0m\u001b[0;34m\u001b[0m\u001b[0;34m\u001b[0m\u001b[0;34m\u001b[0m\u001b[0m\n",
      "\u001b[0;32m/usr/lib/python3/dist-packages/urllib3/connectionpool.py\u001b[0m in \u001b[0;36m_validate_conn\u001b[0;34m(self, conn)\u001b[0m\n\u001b[1;32m    785\u001b[0m         \u001b[0;31m# Force connect early to allow us to validate the connection.\u001b[0m\u001b[0;34m\u001b[0m\u001b[0;34m\u001b[0m\u001b[0;34m\u001b[0m\u001b[0m\n\u001b[1;32m    786\u001b[0m         \u001b[0;32mif\u001b[0m \u001b[0;32mnot\u001b[0m \u001b[0mgetattr\u001b[0m\u001b[0;34m(\u001b[0m\u001b[0mconn\u001b[0m\u001b[0;34m,\u001b[0m \u001b[0;34m'sock'\u001b[0m\u001b[0;34m,\u001b[0m \u001b[0;32mNone\u001b[0m\u001b[0;34m)\u001b[0m\u001b[0;34m:\u001b[0m  \u001b[0;31m# AppEngine might not have  `.sock`\u001b[0m\u001b[0;34m\u001b[0m\u001b[0;34m\u001b[0m\u001b[0m\n\u001b[0;32m--> 787\u001b[0;31m             \u001b[0mconn\u001b[0m\u001b[0;34m.\u001b[0m\u001b[0mconnect\u001b[0m\u001b[0;34m(\u001b[0m\u001b[0;34m)\u001b[0m\u001b[0;34m\u001b[0m\u001b[0;34m\u001b[0m\u001b[0m\n\u001b[0m\u001b[1;32m    788\u001b[0m \u001b[0;34m\u001b[0m\u001b[0m\n\u001b[1;32m    789\u001b[0m         \u001b[0;32mif\u001b[0m \u001b[0;32mnot\u001b[0m \u001b[0mconn\u001b[0m\u001b[0;34m.\u001b[0m\u001b[0mis_verified\u001b[0m\u001b[0;34m:\u001b[0m\u001b[0;34m\u001b[0m\u001b[0;34m\u001b[0m\u001b[0m\n",
      "\u001b[0;32m/usr/lib/python3/dist-packages/urllib3/connection.py\u001b[0m in \u001b[0;36mconnect\u001b[0;34m(self)\u001b[0m\n\u001b[1;32m    215\u001b[0m     \u001b[0;32mdef\u001b[0m \u001b[0mconnect\u001b[0m\u001b[0;34m(\u001b[0m\u001b[0mself\u001b[0m\u001b[0;34m)\u001b[0m\u001b[0;34m:\u001b[0m\u001b[0;34m\u001b[0m\u001b[0;34m\u001b[0m\u001b[0m\n\u001b[1;32m    216\u001b[0m         \u001b[0;31m# Add certificate verification\u001b[0m\u001b[0;34m\u001b[0m\u001b[0;34m\u001b[0m\u001b[0;34m\u001b[0m\u001b[0m\n\u001b[0;32m--> 217\u001b[0;31m         \u001b[0mconn\u001b[0m \u001b[0;34m=\u001b[0m \u001b[0mself\u001b[0m\u001b[0;34m.\u001b[0m\u001b[0m_new_conn\u001b[0m\u001b[0;34m(\u001b[0m\u001b[0;34m)\u001b[0m\u001b[0;34m\u001b[0m\u001b[0;34m\u001b[0m\u001b[0m\n\u001b[0m\u001b[1;32m    218\u001b[0m \u001b[0;34m\u001b[0m\u001b[0m\n\u001b[1;32m    219\u001b[0m         \u001b[0mresolved_cert_reqs\u001b[0m \u001b[0;34m=\u001b[0m \u001b[0mresolve_cert_reqs\u001b[0m\u001b[0;34m(\u001b[0m\u001b[0mself\u001b[0m\u001b[0;34m.\u001b[0m\u001b[0mcert_reqs\u001b[0m\u001b[0;34m)\u001b[0m\u001b[0;34m\u001b[0m\u001b[0;34m\u001b[0m\u001b[0m\n",
      "\u001b[0;32m/usr/lib/python3/dist-packages/urllib3/connection.py\u001b[0m in \u001b[0;36m_new_conn\u001b[0;34m(self)\u001b[0m\n\u001b[1;32m    135\u001b[0m         \u001b[0;32mtry\u001b[0m\u001b[0;34m:\u001b[0m\u001b[0;34m\u001b[0m\u001b[0;34m\u001b[0m\u001b[0m\n\u001b[1;32m    136\u001b[0m             conn = connection.create_connection(\n\u001b[0;32m--> 137\u001b[0;31m                 (self.host, self.port), self.timeout, **extra_kw)\n\u001b[0m\u001b[1;32m    138\u001b[0m \u001b[0;34m\u001b[0m\u001b[0m\n\u001b[1;32m    139\u001b[0m         \u001b[0;32mexcept\u001b[0m \u001b[0mSocketTimeout\u001b[0m\u001b[0;34m:\u001b[0m\u001b[0;34m\u001b[0m\u001b[0;34m\u001b[0m\u001b[0m\n",
      "\u001b[0;32m/usr/lib/python3/dist-packages/urllib3/util/connection.py\u001b[0m in \u001b[0;36mcreate_connection\u001b[0;34m(address, timeout, source_address, socket_options)\u001b[0m\n\u001b[1;32m     79\u001b[0m             \u001b[0;32mif\u001b[0m \u001b[0msource_address\u001b[0m\u001b[0;34m:\u001b[0m\u001b[0;34m\u001b[0m\u001b[0;34m\u001b[0m\u001b[0m\n\u001b[1;32m     80\u001b[0m                 \u001b[0msock\u001b[0m\u001b[0;34m.\u001b[0m\u001b[0mbind\u001b[0m\u001b[0;34m(\u001b[0m\u001b[0msource_address\u001b[0m\u001b[0;34m)\u001b[0m\u001b[0;34m\u001b[0m\u001b[0;34m\u001b[0m\u001b[0m\n\u001b[0;32m---> 81\u001b[0;31m             \u001b[0msock\u001b[0m\u001b[0;34m.\u001b[0m\u001b[0mconnect\u001b[0m\u001b[0;34m(\u001b[0m\u001b[0msa\u001b[0m\u001b[0;34m)\u001b[0m\u001b[0;34m\u001b[0m\u001b[0;34m\u001b[0m\u001b[0m\n\u001b[0m\u001b[1;32m     82\u001b[0m             \u001b[0;32mreturn\u001b[0m \u001b[0msock\u001b[0m\u001b[0;34m\u001b[0m\u001b[0;34m\u001b[0m\u001b[0m\n\u001b[1;32m     83\u001b[0m \u001b[0;34m\u001b[0m\u001b[0m\n",
      "\u001b[0;31mKeyboardInterrupt\u001b[0m: "
     ]
    }
   ],
   "source": [
    "with open('url.txt', 'r') as f:\n",
    "    for url in f:\n",
    "        t = requests.get(url.strip()).text.replace(\"\\n\", '')\n",
    "        x = re.findall(r'<div class=\"postpoetique\">.*</p>\t\t <a href=\"https://www.poesie', t)\n",
    "        x = re.sub(r'<[^<>]+>', '', x[0]).split(\"<\")[0]\n",
    "        x = x.replace(\"(\", '').replace(')', '').replace('.', ' . ').replace('?', ' ? ').replace('!', ' ! ').replace(':', ' : ').replace(',', ' , ').replace(';', ' ; ')\n",
    "        x = re.sub(r'\\s\\s+', ' ', x)\n",
    "        x = x.split(\" \")\n",
    "        \n",
    "        print(x)\n",
    "        print(\"\\n\\n\\n\")"
   ]
  }
 ],
 "metadata": {
  "kernelspec": {
   "display_name": "Python 3",
   "language": "python",
   "name": "python3"
  },
  "language_info": {
   "codemirror_mode": {
    "name": "ipython",
    "version": 3
   },
   "file_extension": ".py",
   "mimetype": "text/x-python",
   "name": "python",
   "nbconvert_exporter": "python",
   "pygments_lexer": "ipython3",
   "version": "3.7.8"
  }
 },
 "nbformat": 4,
 "nbformat_minor": 4
}
